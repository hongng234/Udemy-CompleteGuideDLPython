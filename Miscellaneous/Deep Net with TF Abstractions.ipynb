{
 "cells": [
  {
   "cell_type": "code",
   "execution_count": 1,
   "metadata": {
    "collapsed": false
   },
   "outputs": [
    {
     "name": "stderr",
     "output_type": "stream",
     "text": [
      "C:\\Users\\StrikeWade\\Anaconda3\\lib\\site-packages\\h5py\\__init__.py:36: FutureWarning: Conversion of the second argument of issubdtype from `float` to `np.floating` is deprecated. In future, it will be treated as `np.float64 == np.dtype(float).type`.\n",
      "  from ._conv import register_converters as _register_converters\n",
      "Using TensorFlow backend.\n"
     ]
    }
   ],
   "source": [
    "from sklearn.datasets import load_wine\n",
    "from sklearn.model_selection import train_test_split\n",
    "from sklearn.preprocessing import MinMaxScaler\n",
    "from sklearn.metrics import confusion_matrix, classification_report\n",
    "\n",
    "import tensorflow as tf\n",
    "from tensorflow import estimator\n",
    "import pandas as pd\n",
    "import numpy as np\n",
    "\n",
    "\n",
    "from keras import backend as K\n",
    "\n",
    "#Clear TF memory\n",
    "cfg = K.tf.ConfigProto()\n",
    "cfg.gpu_options.allow_growth = True\n",
    "K.set_session(K.tf.Session(config=cfg))\n",
    "\n",
    "wine_data = load_wine()"
   ]
  },
  {
   "cell_type": "code",
   "execution_count": 2,
   "metadata": {
    "collapsed": false,
    "scrolled": true
   },
   "outputs": [
    {
     "data": {
      "text/plain": [
       "{'DESCR': 'Wine Data Database\\n====================\\n\\nNotes\\n-----\\nData Set Characteristics:\\n    :Number of Instances: 178 (50 in each of three classes)\\n    :Number of Attributes: 13 numeric, predictive attributes and the class\\n    :Attribute Information:\\n \\t\\t- 1) Alcohol\\n \\t\\t- 2) Malic acid\\n \\t\\t- 3) Ash\\n\\t\\t- 4) Alcalinity of ash  \\n \\t\\t- 5) Magnesium\\n\\t\\t- 6) Total phenols\\n \\t\\t- 7) Flavanoids\\n \\t\\t- 8) Nonflavanoid phenols\\n \\t\\t- 9) Proanthocyanins\\n\\t\\t- 10)Color intensity\\n \\t\\t- 11)Hue\\n \\t\\t- 12)OD280/OD315 of diluted wines\\n \\t\\t- 13)Proline\\n        \\t- class:\\n                - class_0\\n                - class_1\\n                - class_2\\n\\t\\t\\n    :Summary Statistics:\\n    \\n    ============================= ==== ===== ======= =====\\n                                   Min   Max   Mean     SD\\n    ============================= ==== ===== ======= =====\\n    Alcohol:                      11.0  14.8    13.0   0.8\\n    Malic Acid:                   0.74  5.80    2.34  1.12\\n    Ash:                          1.36  3.23    2.36  0.27\\n    Alcalinity of Ash:            10.6  30.0    19.5   3.3\\n    Magnesium:                    70.0 162.0    99.7  14.3\\n    Total Phenols:                0.98  3.88    2.29  0.63\\n    Flavanoids:                   0.34  5.08    2.03  1.00\\n    Nonflavanoid Phenols:         0.13  0.66    0.36  0.12\\n    Proanthocyanins:              0.41  3.58    1.59  0.57\\n    Colour Intensity:              1.3  13.0     5.1   2.3\\n    Hue:                          0.48  1.71    0.96  0.23\\n    OD280/OD315 of diluted wines: 1.27  4.00    2.61  0.71\\n    Proline:                       278  1680     746   315\\n    ============================= ==== ===== ======= =====\\n\\n    :Missing Attribute Values: None\\n    :Class Distribution: class_0 (59), class_1 (71), class_2 (48)\\n    :Creator: R.A. Fisher\\n    :Donor: Michael Marshall (MARSHALL%PLU@io.arc.nasa.gov)\\n    :Date: July, 1988\\n\\nThis is a copy of UCI ML Wine recognition datasets.\\nhttps://archive.ics.uci.edu/ml/machine-learning-databases/wine/wine.data\\n\\nThe data is the results of a chemical analysis of wines grown in the same\\nregion in Italy by three different cultivators. There are thirteen different\\nmeasurements taken for different constituents found in the three types of\\nwine.\\n\\nOriginal Owners: \\n\\nForina, M. et al, PARVUS - \\nAn Extendible Package for Data Exploration, Classification and Correlation. \\nInstitute of Pharmaceutical and Food Analysis and Technologies,\\nVia Brigata Salerno, 16147 Genoa, Italy.\\n\\nCitation:\\n\\nLichman, M. (2013). UCI Machine Learning Repository\\n[http://archive.ics.uci.edu/ml]. Irvine, CA: University of California,\\nSchool of Information and Computer Science. \\n\\nReferences\\n----------\\n(1) \\nS. Aeberhard, D. Coomans and O. de Vel, \\nComparison of Classifiers in High Dimensional Settings, \\nTech. Rep. no. 92-02, (1992), Dept. of Computer Science and Dept. of \\nMathematics and Statistics, James Cook University of North Queensland. \\n(Also submitted to Technometrics). \\n\\nThe data was used with many others for comparing various \\nclassifiers. The classes are separable, though only RDA \\nhas achieved 100% correct classification. \\n(RDA : 100%, QDA 99.4%, LDA 98.9%, 1NN 96.1% (z-transformed data)) \\n(All results using the leave-one-out technique) \\n\\n(2) \\nS. Aeberhard, D. Coomans and O. de Vel, \\n\"THE CLASSIFICATION PERFORMANCE OF RDA\" \\nTech. Rep. no. 92-01, (1992), Dept. of Computer Science and Dept. of \\nMathematics and Statistics, James Cook University of North Queensland. \\n(Also submitted to Journal of Chemometrics). \\n',\n",
       " 'data': array([[1.423e+01, 1.710e+00, 2.430e+00, ..., 1.040e+00, 3.920e+00,\n",
       "         1.065e+03],\n",
       "        [1.320e+01, 1.780e+00, 2.140e+00, ..., 1.050e+00, 3.400e+00,\n",
       "         1.050e+03],\n",
       "        [1.316e+01, 2.360e+00, 2.670e+00, ..., 1.030e+00, 3.170e+00,\n",
       "         1.185e+03],\n",
       "        ...,\n",
       "        [1.327e+01, 4.280e+00, 2.260e+00, ..., 5.900e-01, 1.560e+00,\n",
       "         8.350e+02],\n",
       "        [1.317e+01, 2.590e+00, 2.370e+00, ..., 6.000e-01, 1.620e+00,\n",
       "         8.400e+02],\n",
       "        [1.413e+01, 4.100e+00, 2.740e+00, ..., 6.100e-01, 1.600e+00,\n",
       "         5.600e+02]]),\n",
       " 'feature_names': ['alcohol',\n",
       "  'malic_acid',\n",
       "  'ash',\n",
       "  'alcalinity_of_ash',\n",
       "  'magnesium',\n",
       "  'total_phenols',\n",
       "  'flavanoids',\n",
       "  'nonflavanoid_phenols',\n",
       "  'proanthocyanins',\n",
       "  'color_intensity',\n",
       "  'hue',\n",
       "  'od280/od315_of_diluted_wines',\n",
       "  'proline'],\n",
       " 'target': array([0, 0, 0, 0, 0, 0, 0, 0, 0, 0, 0, 0, 0, 0, 0, 0, 0, 0, 0, 0, 0, 0,\n",
       "        0, 0, 0, 0, 0, 0, 0, 0, 0, 0, 0, 0, 0, 0, 0, 0, 0, 0, 0, 0, 0, 0,\n",
       "        0, 0, 0, 0, 0, 0, 0, 0, 0, 0, 0, 0, 0, 0, 0, 1, 1, 1, 1, 1, 1, 1,\n",
       "        1, 1, 1, 1, 1, 1, 1, 1, 1, 1, 1, 1, 1, 1, 1, 1, 1, 1, 1, 1, 1, 1,\n",
       "        1, 1, 1, 1, 1, 1, 1, 1, 1, 1, 1, 1, 1, 1, 1, 1, 1, 1, 1, 1, 1, 1,\n",
       "        1, 1, 1, 1, 1, 1, 1, 1, 1, 1, 1, 1, 1, 1, 1, 1, 1, 1, 1, 1, 2, 2,\n",
       "        2, 2, 2, 2, 2, 2, 2, 2, 2, 2, 2, 2, 2, 2, 2, 2, 2, 2, 2, 2, 2, 2,\n",
       "        2, 2, 2, 2, 2, 2, 2, 2, 2, 2, 2, 2, 2, 2, 2, 2, 2, 2, 2, 2, 2, 2,\n",
       "        2, 2]),\n",
       " 'target_names': array(['class_0', 'class_1', 'class_2'], dtype='<U7')}"
      ]
     },
     "execution_count": 2,
     "metadata": {},
     "output_type": "execute_result"
    }
   ],
   "source": [
    "wine_data"
   ]
  },
  {
   "cell_type": "code",
   "execution_count": 3,
   "metadata": {
    "collapsed": false
   },
   "outputs": [
    {
     "data": {
      "text/plain": [
       "dict_keys(['DESCR', 'target_names', 'target', 'feature_names', 'data'])"
      ]
     },
     "execution_count": 3,
     "metadata": {},
     "output_type": "execute_result"
    }
   ],
   "source": [
    "wine_data.keys()"
   ]
  },
  {
   "cell_type": "code",
   "execution_count": 4,
   "metadata": {
    "collapsed": false,
    "scrolled": true
   },
   "outputs": [
    {
     "name": "stdout",
     "output_type": "stream",
     "text": [
      "Wine Data Database\n",
      "====================\n",
      "\n",
      "Notes\n",
      "-----\n",
      "Data Set Characteristics:\n",
      "    :Number of Instances: 178 (50 in each of three classes)\n",
      "    :Number of Attributes: 13 numeric, predictive attributes and the class\n",
      "    :Attribute Information:\n",
      " \t\t- 1) Alcohol\n",
      " \t\t- 2) Malic acid\n",
      " \t\t- 3) Ash\n",
      "\t\t- 4) Alcalinity of ash  \n",
      " \t\t- 5) Magnesium\n",
      "\t\t- 6) Total phenols\n",
      " \t\t- 7) Flavanoids\n",
      " \t\t- 8) Nonflavanoid phenols\n",
      " \t\t- 9) Proanthocyanins\n",
      "\t\t- 10)Color intensity\n",
      " \t\t- 11)Hue\n",
      " \t\t- 12)OD280/OD315 of diluted wines\n",
      " \t\t- 13)Proline\n",
      "        \t- class:\n",
      "                - class_0\n",
      "                - class_1\n",
      "                - class_2\n",
      "\t\t\n",
      "    :Summary Statistics:\n",
      "    \n",
      "    ============================= ==== ===== ======= =====\n",
      "                                   Min   Max   Mean     SD\n",
      "    ============================= ==== ===== ======= =====\n",
      "    Alcohol:                      11.0  14.8    13.0   0.8\n",
      "    Malic Acid:                   0.74  5.80    2.34  1.12\n",
      "    Ash:                          1.36  3.23    2.36  0.27\n",
      "    Alcalinity of Ash:            10.6  30.0    19.5   3.3\n",
      "    Magnesium:                    70.0 162.0    99.7  14.3\n",
      "    Total Phenols:                0.98  3.88    2.29  0.63\n",
      "    Flavanoids:                   0.34  5.08    2.03  1.00\n",
      "    Nonflavanoid Phenols:         0.13  0.66    0.36  0.12\n",
      "    Proanthocyanins:              0.41  3.58    1.59  0.57\n",
      "    Colour Intensity:              1.3  13.0     5.1   2.3\n",
      "    Hue:                          0.48  1.71    0.96  0.23\n",
      "    OD280/OD315 of diluted wines: 1.27  4.00    2.61  0.71\n",
      "    Proline:                       278  1680     746   315\n",
      "    ============================= ==== ===== ======= =====\n",
      "\n",
      "    :Missing Attribute Values: None\n",
      "    :Class Distribution: class_0 (59), class_1 (71), class_2 (48)\n",
      "    :Creator: R.A. Fisher\n",
      "    :Donor: Michael Marshall (MARSHALL%PLU@io.arc.nasa.gov)\n",
      "    :Date: July, 1988\n",
      "\n",
      "This is a copy of UCI ML Wine recognition datasets.\n",
      "https://archive.ics.uci.edu/ml/machine-learning-databases/wine/wine.data\n",
      "\n",
      "The data is the results of a chemical analysis of wines grown in the same\n",
      "region in Italy by three different cultivators. There are thirteen different\n",
      "measurements taken for different constituents found in the three types of\n",
      "wine.\n",
      "\n",
      "Original Owners: \n",
      "\n",
      "Forina, M. et al, PARVUS - \n",
      "An Extendible Package for Data Exploration, Classification and Correlation. \n",
      "Institute of Pharmaceutical and Food Analysis and Technologies,\n",
      "Via Brigata Salerno, 16147 Genoa, Italy.\n",
      "\n",
      "Citation:\n",
      "\n",
      "Lichman, M. (2013). UCI Machine Learning Repository\n",
      "[http://archive.ics.uci.edu/ml]. Irvine, CA: University of California,\n",
      "School of Information and Computer Science. \n",
      "\n",
      "References\n",
      "----------\n",
      "(1) \n",
      "S. Aeberhard, D. Coomans and O. de Vel, \n",
      "Comparison of Classifiers in High Dimensional Settings, \n",
      "Tech. Rep. no. 92-02, (1992), Dept. of Computer Science and Dept. of \n",
      "Mathematics and Statistics, James Cook University of North Queensland. \n",
      "(Also submitted to Technometrics). \n",
      "\n",
      "The data was used with many others for comparing various \n",
      "classifiers. The classes are separable, though only RDA \n",
      "has achieved 100% correct classification. \n",
      "(RDA : 100%, QDA 99.4%, LDA 98.9%, 1NN 96.1% (z-transformed data)) \n",
      "(All results using the leave-one-out technique) \n",
      "\n",
      "(2) \n",
      "S. Aeberhard, D. Coomans and O. de Vel, \n",
      "\"THE CLASSIFICATION PERFORMANCE OF RDA\" \n",
      "Tech. Rep. no. 92-01, (1992), Dept. of Computer Science and Dept. of \n",
      "Mathematics and Statistics, James Cook University of North Queensland. \n",
      "(Also submitted to Journal of Chemometrics). \n",
      "\n"
     ]
    }
   ],
   "source": [
    "print(wine_data['DESCR'])"
   ]
  },
  {
   "cell_type": "code",
   "execution_count": 5,
   "metadata": {
    "collapsed": false
   },
   "outputs": [
    {
     "data": {
      "text/plain": [
       "array(['class_0', 'class_1', 'class_2'], dtype='<U7')"
      ]
     },
     "execution_count": 5,
     "metadata": {},
     "output_type": "execute_result"
    }
   ],
   "source": [
    "wine_data['target_names']"
   ]
  },
  {
   "cell_type": "code",
   "execution_count": 6,
   "metadata": {
    "collapsed": false
   },
   "outputs": [],
   "source": [
    "feature_data = wine_data['data']\n",
    "labels = wine_data['target']"
   ]
  },
  {
   "cell_type": "code",
   "execution_count": 7,
   "metadata": {
    "collapsed": false
   },
   "outputs": [],
   "source": [
    "#Split data\n",
    "x_train, x_test, y_train, y_test = train_test_split(feature_data, labels, test_size=0.3, random_state=101)"
   ]
  },
  {
   "cell_type": "code",
   "execution_count": 8,
   "metadata": {
    "collapsed": true
   },
   "outputs": [],
   "source": [
    "#Scale data\n",
    "scaler = MinMaxScaler()"
   ]
  },
  {
   "cell_type": "code",
   "execution_count": 9,
   "metadata": {
    "collapsed": true
   },
   "outputs": [],
   "source": [
    "scaled_x_train = scaler.fit_transform(x_train)\n",
    "scaled_x_test = scaler.transform(x_test) # dont want to assume that we are going to know future test data "
   ]
  },
  {
   "cell_type": "markdown",
   "metadata": {},
   "source": [
    "# Estimator API"
   ]
  },
  {
   "cell_type": "code",
   "execution_count": 10,
   "metadata": {
    "collapsed": false
   },
   "outputs": [],
   "source": [
    "#Set Feature columns\n",
    "feat_cols = [tf.feature_column.numeric_column('x', shape=[13])]"
   ]
  },
  {
   "cell_type": "code",
   "execution_count": 11,
   "metadata": {
    "collapsed": false
   },
   "outputs": [
    {
     "name": "stdout",
     "output_type": "stream",
     "text": [
      "INFO:tensorflow:Using default config.\n",
      "WARNING:tensorflow:Using temporary folder as model directory: C:\\Users\\STRIKE~1\\AppData\\Local\\Temp\\tmpybb0h39j\n",
      "INFO:tensorflow:Using config: {'_log_step_count_steps': 100, '_keep_checkpoint_max': 5, '_keep_checkpoint_every_n_hours': 10000, '_cluster_spec': <tensorflow.python.training.server_lib.ClusterSpec object at 0x000001E0D0EAA908>, '_task_id': 0, '_num_ps_replicas': 0, '_save_checkpoints_steps': None, '_master': '', '_save_summary_steps': 100, '_model_dir': 'C:\\\\Users\\\\STRIKE~1\\\\AppData\\\\Local\\\\Temp\\\\tmpybb0h39j', '_save_checkpoints_secs': 600, '_tf_random_seed': None, '_service': None, '_task_type': 'worker', '_num_worker_replicas': 1, '_is_chief': True, '_session_config': None}\n"
     ]
    }
   ],
   "source": [
    "#Model\n",
    "deep_model = estimator.DNNClassifier(hidden_units=[13,13,13], \n",
    "                                     feature_columns=feat_cols, \n",
    "                                     n_classes=3, \n",
    "                                     optimizer=tf.train.GradientDescentOptimizer(learning_rate=0.01))"
   ]
  },
  {
   "cell_type": "code",
   "execution_count": 12,
   "metadata": {
    "collapsed": true
   },
   "outputs": [],
   "source": [
    "#Input function\n",
    "input_function = estimator.inputs.numpy_input_fn(x={'x': scaled_x_train}, \n",
    "                                                 y=y_train, \n",
    "                                                 shuffle=True, \n",
    "                                                 batch_size=10, \n",
    "                                                 num_epochs=10)\n",
    "\n",
    "#Input evaluation function\n",
    "input_eval_function = estimator.inputs.numpy_input_fn(x={'x': scaled_x_test},  \n",
    "                                                      shuffle=False)"
   ]
  },
  {
   "cell_type": "code",
   "execution_count": 13,
   "metadata": {
    "collapsed": false
   },
   "outputs": [
    {
     "name": "stdout",
     "output_type": "stream",
     "text": [
      "INFO:tensorflow:Create CheckpointSaverHook.\n",
      "INFO:tensorflow:Saving checkpoints for 1 into C:\\Users\\STRIKE~1\\AppData\\Local\\Temp\\tmpybb0h39j\\model.ckpt.\n",
      "INFO:tensorflow:loss = 10.766004, step = 1\n",
      "INFO:tensorflow:global_step/sec: 242.683\n",
      "INFO:tensorflow:loss = 3.638844, step = 101 (0.418 sec)\n",
      "INFO:tensorflow:Saving checkpoints for 124 into C:\\Users\\STRIKE~1\\AppData\\Local\\Temp\\tmpybb0h39j\\model.ckpt.\n",
      "INFO:tensorflow:Loss for final step: 0.8468193.\n"
     ]
    },
    {
     "data": {
      "text/plain": [
       "<tensorflow.python.estimator.canned.dnn.DNNClassifier at 0x1e0d0eaabe0>"
      ]
     },
     "execution_count": 13,
     "metadata": {},
     "output_type": "execute_result"
    }
   ],
   "source": [
    "#Train the model\n",
    "deep_model.train(input_fn=input_function, steps=1000)"
   ]
  },
  {
   "cell_type": "code",
   "execution_count": 14,
   "metadata": {
    "collapsed": false
   },
   "outputs": [
    {
     "name": "stdout",
     "output_type": "stream",
     "text": [
      "INFO:tensorflow:Restoring parameters from C:\\Users\\STRIKE~1\\AppData\\Local\\Temp\\tmpybb0h39j\\model.ckpt-124\n"
     ]
    }
   ],
   "source": [
    "#Cast the evaluation predicts into a list\n",
    "y_pred = list(deep_model.predict(input_fn=input_eval_function))"
   ]
  },
  {
   "cell_type": "code",
   "execution_count": 15,
   "metadata": {
    "collapsed": false
   },
   "outputs": [
    {
     "data": {
      "text/plain": [
       "[{'class_ids': array([0], dtype=int64),\n",
       "  'classes': array([b'0'], dtype=object),\n",
       "  'logits': array([ 1.5286713 ,  0.94423306, -3.3791203 ], dtype=float32),\n",
       "  'probabilities': array([0.63905615, 0.356222  , 0.00472185], dtype=float32)},\n",
       " {'class_ids': array([0], dtype=int64),\n",
       "  'classes': array([b'0'], dtype=object),\n",
       "  'logits': array([ 1.9624023,  1.4077007, -4.25992  ], dtype=float32),\n",
       "  'probabilities': array([0.63442594, 0.364315  , 0.0012591 ], dtype=float32)},\n",
       " {'class_ids': array([2], dtype=int64),\n",
       "  'classes': array([b'2'], dtype=object),\n",
       "  'logits': array([-3.8484437 , -0.39111948,  4.0189137 ], dtype=float32),\n",
       "  'probabilities': array([3.7830224e-04, 1.2004267e-02, 9.8761743e-01], dtype=float32)},\n",
       " {'class_ids': array([0], dtype=int64),\n",
       "  'classes': array([b'0'], dtype=object),\n",
       "  'logits': array([ 3.7148364,  0.4186728, -5.33304  ], dtype=float32),\n",
       "  'probabilities': array([9.6418756e-01, 3.5698984e-02, 1.1342760e-04], dtype=float32)},\n",
       " {'class_ids': array([2], dtype=int64),\n",
       "  'classes': array([b'2'], dtype=object),\n",
       "  'logits': array([-3.945679 , -0.4460497,  4.2212863], dtype=float32),\n",
       "  'probabilities': array([2.8115624e-04, 9.3071666e-03, 9.9041170e-01], dtype=float32)},\n",
       " {'class_ids': array([1], dtype=int64),\n",
       "  'classes': array([b'1'], dtype=object),\n",
       "  'logits': array([-1.5143106 ,  1.3441242 , -0.19331312], dtype=float32),\n",
       "  'probabilities': array([0.04508287, 0.78598446, 0.16893257], dtype=float32)},\n",
       " {'class_ids': array([2], dtype=int64),\n",
       "  'classes': array([b'2'], dtype=object),\n",
       "  'logits': array([-3.571409  , -0.23692441,  3.5925665 ], dtype=float32),\n",
       "  'probabilities': array([7.569441e-04, 2.124282e-02, 9.780002e-01], dtype=float32)},\n",
       " {'class_ids': array([0], dtype=int64),\n",
       "  'classes': array([b'0'], dtype=object),\n",
       "  'logits': array([ 2.8328254,  0.6198962, -4.524217 ], dtype=float32),\n",
       "  'probabilities': array([9.0088636e-01, 9.8538749e-02, 5.7484017e-04], dtype=float32)},\n",
       " {'class_ids': array([1], dtype=int64),\n",
       "  'classes': array([b'1'], dtype=object),\n",
       "  'logits': array([ 0.60677725,  2.2948043 , -3.542691  ], dtype=float32),\n",
       "  'probabilities': array([0.15565239, 0.84189254, 0.00245507], dtype=float32)},\n",
       " {'class_ids': array([1], dtype=int64),\n",
       "  'classes': array([b'1'], dtype=object),\n",
       "  'logits': array([ 1.3582063,  1.8378143, -4.0099025], dtype=float32),\n",
       "  'probabilities': array([0.38166422, 0.6165561 , 0.00177968], dtype=float32)},\n",
       " {'class_ids': array([0], dtype=int64),\n",
       "  'classes': array([b'0'], dtype=object),\n",
       "  'logits': array([ 3.1709425,  0.4042356, -4.735678 ], dtype=float32),\n",
       "  'probabilities': array([9.4052410e-01, 5.9129521e-02, 3.4639216e-04], dtype=float32)},\n",
       " {'class_ids': array([1], dtype=int64),\n",
       "  'classes': array([b'1'], dtype=object),\n",
       "  'logits': array([ 0.70251995,  1.7408268 , -3.1413896 ], dtype=float32),\n",
       "  'probabilities': array([0.26002118, 0.73441184, 0.00556698], dtype=float32)},\n",
       " {'class_ids': array([1], dtype=int64),\n",
       "  'classes': array([b'1'], dtype=object),\n",
       "  'logits': array([ 0.96616715,  1.1970879 , -2.9302661 ], dtype=float32),\n",
       "  'probabilities': array([0.43858236, 0.55250823, 0.00890947], dtype=float32)},\n",
       " {'class_ids': array([0], dtype=int64),\n",
       "  'classes': array([b'0'], dtype=object),\n",
       "  'logits': array([ 1.208627 ,  0.9090369, -2.973163 ], dtype=float32),\n",
       "  'probabilities': array([0.5693486 , 0.42195672, 0.00869461], dtype=float32)},\n",
       " {'class_ids': array([0], dtype=int64),\n",
       "  'classes': array([b'0'], dtype=object),\n",
       "  'logits': array([ 3.1818733 ,  0.38951564, -4.623649  ], dtype=float32),\n",
       "  'probabilities': array([9.4189984e-01, 5.7716396e-02, 3.8380391e-04], dtype=float32)},\n",
       " {'class_ids': array([0], dtype=int64),\n",
       "  'classes': array([b'0'], dtype=object),\n",
       "  'logits': array([ 3.0747764,  0.493567 , -4.6875834], dtype=float32),\n",
       "  'probabilities': array([9.2927486e-01, 7.0329770e-02, 3.9536136e-04], dtype=float32)},\n",
       " {'class_ids': array([1], dtype=int64),\n",
       "  'classes': array([b'1'], dtype=object),\n",
       "  'logits': array([-0.89062315,  2.0216246 , -1.5300682 ], dtype=float32),\n",
       "  'probabilities': array([0.05018646, 0.92333585, 0.02647763], dtype=float32)},\n",
       " {'class_ids': array([2], dtype=int64),\n",
       "  'classes': array([b'2'], dtype=object),\n",
       "  'logits': array([-3.1739924 ,  0.17395556,  2.7955482 ], dtype=float32),\n",
       "  'probabilities': array([0.00237659, 0.06760059, 0.93002284], dtype=float32)},\n",
       " {'class_ids': array([1], dtype=int64),\n",
       "  'classes': array([b'1'], dtype=object),\n",
       "  'logits': array([-1.0946093,  2.1080632, -1.5240915], dtype=float32),\n",
       "  'probabilities': array([0.03809665, 0.9371083 , 0.02479505], dtype=float32)},\n",
       " {'class_ids': array([1], dtype=int64),\n",
       "  'classes': array([b'1'], dtype=object),\n",
       "  'logits': array([-1.0673543,  2.238658 , -1.6520875], dtype=float32),\n",
       "  'probabilities': array([0.03468201, 0.9459913 , 0.01932671], dtype=float32)},\n",
       " {'class_ids': array([1], dtype=int64),\n",
       "  'classes': array([b'1'], dtype=object),\n",
       "  'logits': array([-1.2274747,  1.9306659, -1.211838 ], dtype=float32),\n",
       "  'probabilities': array([0.03915033, 0.9210823 , 0.03976733], dtype=float32)},\n",
       " {'class_ids': array([2], dtype=int64),\n",
       "  'classes': array([b'2'], dtype=object),\n",
       "  'logits': array([-2.9045098,  0.3605402,  2.389568 ], dtype=float32),\n",
       "  'probabilities': array([0.00441822, 0.11567535, 0.8799064 ], dtype=float32)},\n",
       " {'class_ids': array([2], dtype=int64),\n",
       "  'classes': array([b'2'], dtype=object),\n",
       "  'logits': array([-3.194449  ,  0.44636363,  2.4938524 ], dtype=float32),\n",
       "  'probabilities': array([0.00298941, 0.11396468, 0.883046  ], dtype=float32)},\n",
       " {'class_ids': array([2], dtype=int64),\n",
       "  'classes': array([b'2'], dtype=object),\n",
       "  'logits': array([-3.5787618 , -0.42076904,  3.8442214 ], dtype=float32),\n",
       "  'probabilities': array([5.88739756e-04, 1.38491215e-02, 9.85562086e-01], dtype=float32)},\n",
       " {'class_ids': array([0], dtype=int64),\n",
       "  'classes': array([b'0'], dtype=object),\n",
       "  'logits': array([ 2.7766175,  0.6085205, -4.5079594], dtype=float32),\n",
       "  'probabilities': array([8.9679569e-01, 1.0258903e-01, 6.1523629e-04], dtype=float32)},\n",
       " {'class_ids': array([0], dtype=int64),\n",
       "  'classes': array([b'0'], dtype=object),\n",
       "  'logits': array([ 2.1657221,  1.0837601, -4.221138 ], dtype=float32),\n",
       "  'probabilities': array([0.74592716, 0.252817  , 0.00125579], dtype=float32)},\n",
       " {'class_ids': array([1], dtype=int64),\n",
       "  'classes': array([b'1'], dtype=object),\n",
       "  'logits': array([-0.26273757,  2.3904743 , -2.6623116 ], dtype=float32),\n",
       "  'probabilities': array([0.06540082, 0.9286636 , 0.00593556], dtype=float32)},\n",
       " {'class_ids': array([1], dtype=int64),\n",
       "  'classes': array([b'1'], dtype=object),\n",
       "  'logits': array([-1.1154187,  1.5398505, -0.8939366], dtype=float32),\n",
       "  'probabilities': array([0.06069161, 0.8635698 , 0.07573858], dtype=float32)},\n",
       " {'class_ids': array([2], dtype=int64),\n",
       "  'classes': array([b'2'], dtype=object),\n",
       "  'logits': array([-3.1895587 , -0.24954462,  3.3376343 ], dtype=float32),\n",
       "  'probabilities': array([0.00142168, 0.02689266, 0.97168565], dtype=float32)},\n",
       " {'class_ids': array([1], dtype=int64),\n",
       "  'classes': array([b'1'], dtype=object),\n",
       "  'logits': array([-2.0128503 ,  1.5339587 ,  0.12810443], dtype=float32),\n",
       "  'probabilities': array([0.02261934, 0.7849454 , 0.1924353 ], dtype=float32)},\n",
       " {'class_ids': array([2], dtype=int64),\n",
       "  'classes': array([b'2'], dtype=object),\n",
       "  'logits': array([-3.174904 , -0.2264204,  3.1978877], dtype=float32),\n",
       "  'probabilities': array([0.0016508 , 0.03149228, 0.9668569 ], dtype=float32)},\n",
       " {'class_ids': array([2], dtype=int64),\n",
       "  'classes': array([b'2'], dtype=object),\n",
       "  'logits': array([-2.360909  ,  0.71474886,  1.4304321 ], dtype=float32),\n",
       "  'probabilities': array([0.01492985, 0.32344213, 0.661628  ], dtype=float32)},\n",
       " {'class_ids': array([2], dtype=int64),\n",
       "  'classes': array([b'2'], dtype=object),\n",
       "  'logits': array([-2.4087768,  0.7729558,  1.4356428], dtype=float32),\n",
       "  'probabilities': array([0.0139237 , 0.33540028, 0.650676  ], dtype=float32)},\n",
       " {'class_ids': array([0], dtype=int64),\n",
       "  'classes': array([b'0'], dtype=object),\n",
       "  'logits': array([ 2.0037303 ,  0.92231345, -3.8769462 ], dtype=float32),\n",
       "  'probabilities': array([0.7452078 , 0.25271094, 0.00208129], dtype=float32)},\n",
       " {'class_ids': array([1], dtype=int64),\n",
       "  'classes': array([b'1'], dtype=object),\n",
       "  'logits': array([ 1.3193028,  1.500046 , -3.6563666], dtype=float32),\n",
       "  'probabilities': array([0.4535124, 0.5433566, 0.003131 ], dtype=float32)},\n",
       " {'class_ids': array([0], dtype=int64),\n",
       "  'classes': array([b'0'], dtype=object),\n",
       "  'logits': array([ 3.233104  ,  0.11683059, -4.472036  ], dtype=float32),\n",
       "  'probabilities': array([9.5714617e-01, 4.2422663e-02, 4.3119970e-04], dtype=float32)},\n",
       " {'class_ids': array([0], dtype=int64),\n",
       "  'classes': array([b'0'], dtype=object),\n",
       "  'logits': array([ 3.0752535,  0.5323105, -4.6235523], dtype=float32),\n",
       "  'probabilities': array([9.2670852e-01, 7.2871387e-02, 4.2014025e-04], dtype=float32)},\n",
       " {'class_ids': array([1], dtype=int64),\n",
       "  'classes': array([b'1'], dtype=object),\n",
       "  'logits': array([-1.2686769 ,  1.2221887 , -0.43226224], dtype=float32),\n",
       "  'probabilities': array([0.06502035, 0.78490764, 0.150072  ], dtype=float32)},\n",
       " {'class_ids': array([1], dtype=int64),\n",
       "  'classes': array([b'1'], dtype=object),\n",
       "  'logits': array([ 0.3952874,  1.6739819, -2.673342 ], dtype=float32),\n",
       "  'probabilities': array([0.21559009, 0.77438825, 0.01002167], dtype=float32)},\n",
       " {'class_ids': array([2], dtype=int64),\n",
       "  'classes': array([b'2'], dtype=object),\n",
       "  'logits': array([-4.1518774, -0.4559782,  4.3860908], dtype=float32),\n",
       "  'probabilities': array([1.943166e-04, 7.827412e-03, 9.919783e-01], dtype=float32)},\n",
       " {'class_ids': array([1], dtype=int64),\n",
       "  'classes': array([b'1'], dtype=object),\n",
       "  'logits': array([-1.9481122,  1.8511434, -0.3668774], dtype=float32),\n",
       "  'probabilities': array([0.01979066, 0.8840079 , 0.09620154], dtype=float32)},\n",
       " {'class_ids': array([0], dtype=int64),\n",
       "  'classes': array([b'0'], dtype=object),\n",
       "  'logits': array([ 3.1582468 ,  0.63018775, -4.7796836 ], dtype=float32),\n",
       "  'probabilities': array([9.2577958e-01, 7.3889971e-02, 3.3045196e-04], dtype=float32)},\n",
       " {'class_ids': array([0], dtype=int64),\n",
       "  'classes': array([b'0'], dtype=object),\n",
       "  'logits': array([ 2.6472323 ,  0.92194533, -4.6438518 ], dtype=float32),\n",
       "  'probabilities': array([8.4831774e-01, 1.5110399e-01, 5.7820370e-04], dtype=float32)},\n",
       " {'class_ids': array([1], dtype=int64),\n",
       "  'classes': array([b'1'], dtype=object),\n",
       "  'logits': array([ 1.5246971,  1.8022795, -4.094617 ], dtype=float32),\n",
       "  'probabilities': array([0.43037367, 0.5680652 , 0.00156102], dtype=float32)},\n",
       " {'class_ids': array([2], dtype=int64),\n",
       "  'classes': array([b'2'], dtype=object),\n",
       "  'logits': array([-3.424324  ,  0.08041054,  3.1042774 ], dtype=float32),\n",
       "  'probabilities': array([0.00139138, 0.04629472, 0.95231396], dtype=float32)},\n",
       " {'class_ids': array([1], dtype=int64),\n",
       "  'classes': array([b'1'], dtype=object),\n",
       "  'logits': array([ 0.22020286,  1.8366749 , -2.6618025 ], dtype=float32),\n",
       "  'probabilities': array([0.1641681 , 0.82663476, 0.00919708], dtype=float32)},\n",
       " {'class_ids': array([1], dtype=int64),\n",
       "  'classes': array([b'1'], dtype=object),\n",
       "  'logits': array([-0.15700245,  2.3837934 , -2.7623787 ], dtype=float32),\n",
       "  'probabilities': array([0.07265519, 0.92197734, 0.00536743], dtype=float32)},\n",
       " {'class_ids': array([2], dtype=int64),\n",
       "  'classes': array([b'2'], dtype=object),\n",
       "  'logits': array([-2.7687795 , -0.08903337,  2.6603754 ], dtype=float32),\n",
       "  'probabilities': array([0.00410614, 0.05987319, 0.9360207 ], dtype=float32)},\n",
       " {'class_ids': array([2], dtype=int64),\n",
       "  'classes': array([b'2'], dtype=object),\n",
       "  'logits': array([-3.2712429 , -0.26888824,  3.3457234 ], dtype=float32),\n",
       "  'probabilities': array([0.00130072, 0.0261872 , 0.97251207], dtype=float32)},\n",
       " {'class_ids': array([1], dtype=int64),\n",
       "  'classes': array([b'1'], dtype=object),\n",
       "  'logits': array([ 1.1939752,  2.026691 , -4.1628966], dtype=float32),\n",
       "  'probabilities': array([0.30263865, 0.6959343 , 0.00142713], dtype=float32)},\n",
       " {'class_ids': array([0], dtype=int64),\n",
       "  'classes': array([b'0'], dtype=object),\n",
       "  'logits': array([ 2.226255 ,  1.0649025, -4.2534676], dtype=float32),\n",
       "  'probabilities': array([0.76068956, 0.23814338, 0.00116708], dtype=float32)},\n",
       " {'class_ids': array([1], dtype=int64),\n",
       "  'classes': array([b'1'], dtype=object),\n",
       "  'logits': array([-1.9190619 ,  1.3816705 ,  0.20900576], dtype=float32),\n",
       "  'probabilities': array([0.02737392, 0.74272287, 0.22990318], dtype=float32)},\n",
       " {'class_ids': array([1], dtype=int64),\n",
       "  'classes': array([b'1'], dtype=object),\n",
       "  'logits': array([-1.4293876,  1.8438177, -0.8830349], dtype=float32),\n",
       "  'probabilities': array([0.03433741, 0.9063638 , 0.05929874], dtype=float32)},\n",
       " {'class_ids': array([0], dtype=int64),\n",
       "  'classes': array([b'0'], dtype=object),\n",
       "  'logits': array([ 4.153116 ,  0.4712813, -5.9035573], dtype=float32),\n",
       "  'probabilities': array([9.7540069e-01, 2.4557406e-02, 4.1843254e-05], dtype=float32)}]"
      ]
     },
     "execution_count": 15,
     "metadata": {},
     "output_type": "execute_result"
    }
   ],
   "source": [
    "y_pred"
   ]
  },
  {
   "cell_type": "code",
   "execution_count": 16,
   "metadata": {
    "collapsed": false,
    "scrolled": true
   },
   "outputs": [
    {
     "data": {
      "text/plain": [
       "([0,\n",
       "  0,\n",
       "  2,\n",
       "  0,\n",
       "  2,\n",
       "  1,\n",
       "  2,\n",
       "  0,\n",
       "  1,\n",
       "  1,\n",
       "  0,\n",
       "  1,\n",
       "  1,\n",
       "  0,\n",
       "  0,\n",
       "  0,\n",
       "  1,\n",
       "  2,\n",
       "  1,\n",
       "  1,\n",
       "  1,\n",
       "  2,\n",
       "  2,\n",
       "  2,\n",
       "  0,\n",
       "  0,\n",
       "  1,\n",
       "  1,\n",
       "  2,\n",
       "  1,\n",
       "  2,\n",
       "  2,\n",
       "  2,\n",
       "  0,\n",
       "  1,\n",
       "  0,\n",
       "  0,\n",
       "  1,\n",
       "  1,\n",
       "  2,\n",
       "  1,\n",
       "  0,\n",
       "  0,\n",
       "  1,\n",
       "  2,\n",
       "  1,\n",
       "  1,\n",
       "  2,\n",
       "  2,\n",
       "  1,\n",
       "  0,\n",
       "  1,\n",
       "  1,\n",
       "  0],\n",
       " array([0, 0, 2, 0, 2, 1, 2, 0, 1, 1, 0, 1, 0, 0, 0, 0, 1, 2, 1, 1, 1, 2,\n",
       "        2, 2, 0, 0, 1, 1, 2, 1, 2, 1, 1, 0, 0, 0, 0, 1, 1, 2, 1, 0, 0, 1,\n",
       "        2, 1, 1, 2, 2, 1, 0, 1, 1, 0]))"
      ]
     },
     "execution_count": 16,
     "metadata": {},
     "output_type": "execute_result"
    }
   ],
   "source": [
    "predictions = [p['class_ids'][0] for p in y_pred]\n",
    "(predictions,y_test)"
   ]
  },
  {
   "cell_type": "code",
   "execution_count": 17,
   "metadata": {
    "collapsed": false
   },
   "outputs": [
    {
     "name": "stdout",
     "output_type": "stream",
     "text": [
      "             precision    recall  f1-score   support\n",
      "\n",
      "          0       1.00      0.89      0.94        19\n",
      "          1       0.91      0.91      0.91        22\n",
      "          2       0.87      1.00      0.93        13\n",
      "\n",
      "avg / total       0.93      0.93      0.93        54\n",
      "\n"
     ]
    }
   ],
   "source": [
    "print(classification_report(y_pred=predictions, y_true=y_test))"
   ]
  },
  {
   "cell_type": "code",
   "execution_count": 18,
   "metadata": {
    "collapsed": false
   },
   "outputs": [
    {
     "name": "stdout",
     "output_type": "stream",
     "text": [
      "[[17  2  0]\n",
      " [ 0 20  2]\n",
      " [ 0  0 13]]\n"
     ]
    }
   ],
   "source": [
    "print(confusion_matrix(y_pred=predictions, y_true=y_test))"
   ]
  },
  {
   "cell_type": "markdown",
   "metadata": {},
   "source": [
    "# Keras API"
   ]
  },
  {
   "cell_type": "code",
   "execution_count": 19,
   "metadata": {
    "collapsed": true
   },
   "outputs": [],
   "source": [
    "from tensorflow.contrib.keras import models, layers, losses, optimizers, metrics, activations"
   ]
  },
  {
   "cell_type": "code",
   "execution_count": 20,
   "metadata": {
    "collapsed": true
   },
   "outputs": [],
   "source": [
    "#Create DNN keras model\n",
    "dnn_keras_model = models.Sequential()"
   ]
  },
  {
   "cell_type": "code",
   "execution_count": 21,
   "metadata": {
    "collapsed": true
   },
   "outputs": [],
   "source": [
    "#Add 3 Dense layers\n",
    "dnn_keras_model.add(layers.Dense(units=13, input_dim=13, activation='relu'))\n",
    "dnn_keras_model.add(layers.Dense(units=13, activation='relu'))\n",
    "dnn_keras_model.add(layers.Dense(units=13, activation='relu'))"
   ]
  },
  {
   "cell_type": "code",
   "execution_count": 22,
   "metadata": {
    "collapsed": true
   },
   "outputs": [],
   "source": [
    "#Add the last layer with 3 output\n",
    "dnn_keras_model.add(layers.Dense(units=3, activation='softmax'))"
   ]
  },
  {
   "cell_type": "code",
   "execution_count": 23,
   "metadata": {
    "collapsed": false
   },
   "outputs": [
    {
     "name": "stdout",
     "output_type": "stream",
     "text": [
      "WARNING:tensorflow:From C:\\Users\\StrikeWade\\Anaconda3\\lib\\site-packages\\tensorflow\\python\\keras\\_impl\\keras\\backend.py:1557: calling reduce_mean (from tensorflow.python.ops.math_ops) with keep_dims is deprecated and will be removed in a future version.\n",
      "Instructions for updating:\n",
      "keep_dims is deprecated, use keepdims instead\n",
      "WARNING:tensorflow:From C:\\Users\\StrikeWade\\Anaconda3\\lib\\site-packages\\tensorflow\\python\\keras\\_impl\\keras\\backend.py:1422: calling reduce_max (from tensorflow.python.ops.math_ops) with keep_dims is deprecated and will be removed in a future version.\n",
      "Instructions for updating:\n",
      "keep_dims is deprecated, use keepdims instead\n"
     ]
    }
   ],
   "source": [
    "#Compile all the layers\n",
    "# loss: depend on format of the data - \n",
    "#    Not Onehot->sparse_categorical_crossentropy, \n",
    "#        Onehot->categorical_crossentropy\n",
    "dnn_keras_model.compile(optimizer='adam', \n",
    "                        loss='sparse_categorical_crossentropy', \n",
    "                        metrics=['accuracy'])"
   ]
  },
  {
   "cell_type": "code",
   "execution_count": 24,
   "metadata": {
    "collapsed": false
   },
   "outputs": [
    {
     "name": "stdout",
     "output_type": "stream",
     "text": [
      "Epoch 1/100\n",
      "124/124 [==============================]124/124 [==============================] - 0s 3ms/step - loss: 1.1088 - acc: 0.2984\n",
      "\n",
      "Epoch 2/100\n",
      "124/124 [==============================]124/124 [==============================] - 0s 169us/step - loss: 1.0872 - acc: 0.3226\n",
      "\n",
      "Epoch 3/100\n",
      "124/124 [==============================]124/124 [==============================] - 0s 161us/step - loss: 1.0669 - acc: 0.3226\n",
      "\n",
      "Epoch 4/100\n",
      "124/124 [==============================]124/124 [==============================] - 0s 153us/step - loss: 1.0479 - acc: 0.3710\n",
      "\n",
      "Epoch 5/100\n",
      "124/124 [==============================]124/124 [==============================] - 0s 161us/step - loss: 1.0309 - acc: 0.4355\n",
      "\n",
      "Epoch 6/100\n",
      "124/124 [==============================]124/124 [==============================] - 0s 153us/step - loss: 1.0122 - acc: 0.4839\n",
      "\n",
      "Epoch 7/100\n",
      "124/124 [==============================]124/124 [==============================] - 0s 153us/step - loss: 0.9963 - acc: 0.5403\n",
      "\n",
      "Epoch 8/100\n",
      "124/124 [==============================]124/124 [==============================] - 0s 153us/step - loss: 0.9785 - acc: 0.5403\n",
      "\n",
      "Epoch 9/100\n",
      "124/124 [==============================]124/124 [==============================] - 0s 153us/step - loss: 0.9620 - acc: 0.5484\n",
      "\n",
      "Epoch 10/100\n",
      "124/124 [==============================]124/124 [==============================] - 0s 185us/step - loss: 0.9464 - acc: 0.5645\n",
      "\n",
      "Epoch 11/100\n",
      "124/124 [==============================]124/124 [==============================] - 0s 161us/step - loss: 0.9305 - acc: 0.5726\n",
      "\n",
      "Epoch 12/100\n",
      "124/124 [==============================]124/124 [==============================] - 0s 169us/step - loss: 0.9132 - acc: 0.5806\n",
      "\n",
      "Epoch 13/100\n",
      "124/124 [==============================]124/124 [==============================] - 0s 161us/step - loss: 0.8957 - acc: 0.5887\n",
      "\n",
      "Epoch 14/100\n",
      "124/124 [==============================]124/124 [==============================] - 0s 161us/step - loss: 0.8775 - acc: 0.5887\n",
      "\n",
      "Epoch 15/100\n",
      "124/124 [==============================]124/124 [==============================] - 0s 177us/step - loss: 0.8579 - acc: 0.5968\n",
      "\n",
      "Epoch 16/100\n",
      "124/124 [==============================]124/124 [==============================] - 0s 153us/step - loss: 0.8395 - acc: 0.6048\n",
      "\n",
      "Epoch 17/100\n",
      "124/124 [==============================]124/124 [==============================] - 0s 153us/step - loss: 0.8181 - acc: 0.6129\n",
      "\n",
      "Epoch 18/100\n",
      "124/124 [==============================]124/124 [==============================] - 0s 177us/step - loss: 0.7972 - acc: 0.6290\n",
      "\n",
      "Epoch 19/100\n",
      "124/124 [==============================]124/124 [==============================] - 0s 202us/step - loss: 0.7759 - acc: 0.6452\n",
      "\n",
      "Epoch 20/100\n",
      "124/124 [==============================]124/124 [==============================] - 0s 145us/step - loss: 0.7541 - acc: 0.6532\n",
      "\n",
      "Epoch 21/100\n",
      "124/124 [==============================]124/124 [==============================] - 0s 177us/step - loss: 0.7330 - acc: 0.7016\n",
      "\n",
      "Epoch 22/100\n",
      "124/124 [==============================]124/124 [==============================] - 0s 153us/step - loss: 0.7108 - acc: 0.7339\n",
      "\n",
      "Epoch 23/100\n",
      "124/124 [==============================]124/124 [==============================] - 0s 161us/step - loss: 0.6886 - acc: 0.7581\n",
      "\n",
      "Epoch 24/100\n",
      "124/124 [==============================]124/124 [==============================] - 0s 153us/step - loss: 0.6660 - acc: 0.7661\n",
      "\n",
      "Epoch 25/100\n",
      "124/124 [==============================]124/124 [==============================] - 0s 137us/step - loss: 0.6419 - acc: 0.7581\n",
      "\n",
      "Epoch 26/100\n",
      "124/124 [==============================]124/124 [==============================] - 0s 145us/step - loss: 0.6152 - acc: 0.7742\n",
      "\n",
      "Epoch 27/100\n",
      "124/124 [==============================]124/124 [==============================] - 0s 161us/step - loss: 0.5885 - acc: 0.7984\n",
      "\n",
      "Epoch 28/100\n",
      "124/124 [==============================]124/124 [==============================] - 0s 161us/step - loss: 0.5624 - acc: 0.7984\n",
      "\n",
      "Epoch 29/100\n",
      "124/124 [==============================]124/124 [==============================] - 0s 169us/step - loss: 0.5377 - acc: 0.8468\n",
      "\n",
      "Epoch 30/100\n",
      "124/124 [==============================]124/124 [==============================] - 0s 153us/step - loss: 0.5139 - acc: 0.8548\n",
      "\n",
      "Epoch 31/100\n",
      "124/124 [==============================]124/124 [==============================] - 0s 153us/step - loss: 0.4915 - acc: 0.8629\n",
      "\n",
      "Epoch 32/100\n",
      "124/124 [==============================]124/124 [==============================] - 0s 145us/step - loss: 0.4690 - acc: 0.8871\n",
      "\n",
      "Epoch 33/100\n",
      "124/124 [==============================]124/124 [==============================] - 0s 137us/step - loss: 0.4483 - acc: 0.8952\n",
      "\n",
      "Epoch 34/100\n",
      "124/124 [==============================]124/124 [==============================] - 0s 161us/step - loss: 0.4279 - acc: 0.9194\n",
      "\n",
      "Epoch 35/100\n",
      "124/124 [==============================]124/124 [==============================] - 0s 153us/step - loss: 0.4085 - acc: 0.9194\n",
      "\n",
      "Epoch 36/100\n",
      "124/124 [==============================]124/124 [==============================] - 0s 193us/step - loss: 0.3894 - acc: 0.9194\n",
      "\n",
      "Epoch 37/100\n",
      "124/124 [==============================]124/124 [==============================] - 0s 137us/step - loss: 0.3728 - acc: 0.9355\n",
      "\n",
      "Epoch 38/100\n",
      "124/124 [==============================]124/124 [==============================] - 0s 169us/step - loss: 0.3570 - acc: 0.9355\n",
      "\n",
      "Epoch 39/100\n",
      "124/124 [==============================]124/124 [==============================] - 0s 137us/step - loss: 0.3397 - acc: 0.9435\n",
      "\n",
      "Epoch 40/100\n",
      "124/124 [==============================]124/124 [==============================] - 0s 161us/step - loss: 0.3269 - acc: 0.9435\n",
      "\n",
      "Epoch 41/100\n",
      "124/124 [==============================]124/124 [==============================] - 0s 177us/step - loss: 0.3116 - acc: 0.9435\n",
      "\n",
      "Epoch 42/100\n",
      "124/124 [==============================]124/124 [==============================] - 0s 161us/step - loss: 0.2983 - acc: 0.9435\n",
      "\n",
      "Epoch 43/100\n",
      "124/124 [==============================]124/124 [==============================] - 0s 145us/step - loss: 0.2866 - acc: 0.9597\n",
      "\n",
      "Epoch 44/100\n",
      "124/124 [==============================]124/124 [==============================] - 0s 177us/step - loss: 0.2748 - acc: 0.9597\n",
      "\n",
      "Epoch 45/100\n",
      "124/124 [==============================]124/124 [==============================] - 0s 177us/step - loss: 0.2636 - acc: 0.9677\n",
      "\n",
      "Epoch 46/100\n",
      "124/124 [==============================]124/124 [==============================] - 0s 153us/step - loss: 0.2534 - acc: 0.9677\n",
      "\n",
      "Epoch 47/100\n",
      "124/124 [==============================]124/124 [==============================] - 0s 161us/step - loss: 0.2442 - acc: 0.9677\n",
      "\n",
      "Epoch 48/100\n",
      "124/124 [==============================]124/124 [==============================] - 0s 145us/step - loss: 0.2344 - acc: 0.9677\n",
      "\n",
      "Epoch 49/100\n",
      "124/124 [==============================]124/124 [==============================] - 0s 129us/step - loss: 0.2262 - acc: 0.9677\n",
      "\n",
      "Epoch 50/100\n",
      "124/124 [==============================]124/124 [==============================] - 0s 153us/step - loss: 0.2194 - acc: 0.9677\n",
      "\n",
      "Epoch 51/100\n",
      "124/124 [==============================]124/124 [==============================] - 0s 153us/step - loss: 0.2112 - acc: 0.9677\n",
      "\n",
      "Epoch 52/100\n",
      "124/124 [==============================]124/124 [==============================] - 0s 169us/step - loss: 0.2045 - acc: 0.9677\n",
      "\n",
      "Epoch 53/100\n",
      "124/124 [==============================]124/124 [==============================] - 0s 169us/step - loss: 0.1982 - acc: 0.9677\n",
      "\n",
      "Epoch 54/100\n",
      "124/124 [==============================]124/124 [==============================] - 0s 137us/step - loss: 0.1923 - acc: 0.9677\n",
      "\n",
      "Epoch 55/100\n",
      "124/124 [==============================]124/124 [==============================] - 0s 145us/step - loss: 0.1902 - acc: 0.9677\n",
      "\n",
      "Epoch 56/100\n",
      "124/124 [==============================]124/124 [==============================] - 0s 161us/step - loss: 0.1806 - acc: 0.9677\n",
      "\n",
      "Epoch 57/100\n",
      "124/124 [==============================]124/124 [==============================] - 0s 161us/step - loss: 0.1757 - acc: 0.9677\n",
      "\n",
      "Epoch 58/100\n",
      "124/124 [==============================]124/124 [==============================] - 0s 177us/step - loss: 0.1719 - acc: 0.9677\n",
      "\n",
      "Epoch 59/100\n",
      "124/124 [==============================]124/124 [==============================] - 0s 153us/step - loss: 0.1668 - acc: 0.9677\n",
      "\n",
      "Epoch 60/100\n",
      "124/124 [==============================]124/124 [==============================] - 0s 161us/step - loss: 0.1620 - acc: 0.9677\n",
      "\n",
      "Epoch 61/100\n",
      "124/124 [==============================]124/124 [==============================] - 0s 153us/step - loss: 0.1590 - acc: 0.9677\n",
      "\n",
      "Epoch 62/100\n",
      "124/124 [==============================]124/124 [==============================] - 0s 137us/step - loss: 0.1546 - acc: 0.9758\n",
      "\n",
      "Epoch 63/100\n",
      "124/124 [==============================]124/124 [==============================] - 0s 137us/step - loss: 0.1502 - acc: 0.9758\n",
      "\n",
      "Epoch 64/100\n",
      "124/124 [==============================]124/124 [==============================] - 0s 145us/step - loss: 0.1471 - acc: 0.9758\n",
      "\n",
      "Epoch 65/100\n",
      "124/124 [==============================]124/124 [==============================] - 0s 177us/step - loss: 0.1441 - acc: 0.9758\n",
      "\n",
      "Epoch 66/100\n",
      "124/124 [==============================]124/124 [==============================] - 0s 137us/step - loss: 0.1394 - acc: 0.9758\n",
      "\n",
      "Epoch 67/100\n",
      "124/124 [==============================]124/124 [==============================] - 0s 137us/step - loss: 0.1368 - acc: 0.9758\n",
      "\n",
      "Epoch 68/100\n",
      "124/124 [==============================]124/124 [==============================] - 0s 153us/step - loss: 0.1352 - acc: 0.9758\n",
      "\n",
      "Epoch 69/100\n",
      "124/124 [==============================]124/124 [==============================] - 0s 177us/step - loss: 0.1319 - acc: 0.9758\n",
      "\n",
      "Epoch 70/100\n",
      "124/124 [==============================]124/124 [==============================] - 0s 161us/step - loss: 0.1298 - acc: 0.9758\n",
      "\n",
      "Epoch 71/100\n",
      "124/124 [==============================]124/124 [==============================] - 0s 145us/step - loss: 0.1258 - acc: 0.9758\n",
      "\n",
      "Epoch 72/100\n",
      "124/124 [==============================]124/124 [==============================] - 0s 153us/step - loss: 0.1232 - acc: 0.9758\n",
      "\n",
      "Epoch 73/100\n",
      "124/124 [==============================]124/124 [==============================] - 0s 153us/step - loss: 0.1212 - acc: 0.9758\n",
      "\n",
      "Epoch 74/100\n",
      "124/124 [==============================]124/124 [==============================] - 0s 161us/step - loss: 0.1186 - acc: 0.9758\n",
      "\n",
      "Epoch 75/100\n",
      "124/124 [==============================]124/124 [==============================] - 0s 145us/step - loss: 0.1158 - acc: 0.9758\n",
      "\n",
      "Epoch 76/100\n",
      "124/124 [==============================]124/124 [==============================] - 0s 161us/step - loss: 0.1142 - acc: 0.9758\n",
      "\n",
      "Epoch 77/100\n",
      "124/124 [==============================]124/124 [==============================] - 0s 161us/step - loss: 0.1120 - acc: 0.9758\n",
      "\n",
      "Epoch 78/100\n",
      "124/124 [==============================]124/124 [==============================] - 0s 137us/step - loss: 0.1095 - acc: 0.9758\n",
      "\n",
      "Epoch 79/100\n",
      "124/124 [==============================]124/124 [==============================] - 0s 153us/step - loss: 0.1085 - acc: 0.9758\n",
      "\n",
      "Epoch 80/100\n",
      "124/124 [==============================]124/124 [==============================] - 0s 137us/step - loss: 0.1058 - acc: 0.9839\n",
      "\n",
      "Epoch 81/100\n",
      "124/124 [==============================]124/124 [==============================] - 0s 145us/step - loss: 0.1032 - acc: 0.9758\n",
      "\n",
      "Epoch 82/100\n",
      "124/124 [==============================]124/124 [==============================] - 0s 177us/step - loss: 0.1015 - acc: 0.9758\n",
      "\n",
      "Epoch 83/100\n",
      "124/124 [==============================]124/124 [==============================] - 0s 161us/step - loss: 0.1005 - acc: 0.9758\n",
      "\n",
      "Epoch 84/100\n",
      "124/124 [==============================]124/124 [==============================] - 0s 153us/step - loss: 0.0987 - acc: 0.9758\n",
      "\n",
      "Epoch 85/100\n",
      "124/124 [==============================]124/124 [==============================] - 0s 153us/step - loss: 0.0968 - acc: 0.9758\n",
      "\n",
      "Epoch 86/100\n",
      "124/124 [==============================]124/124 [==============================] - 0s 129us/step - loss: 0.0940 - acc: 0.9839\n",
      "\n",
      "Epoch 87/100\n",
      "124/124 [==============================]124/124 [==============================] - 0s 145us/step - loss: 0.0925 - acc: 0.9839\n",
      "\n",
      "Epoch 88/100\n",
      "124/124 [==============================]124/124 [==============================] - 0s 145us/step - loss: 0.0918 - acc: 0.9839\n",
      "\n",
      "Epoch 89/100\n",
      "124/124 [==============================]124/124 [==============================] - 0s 129us/step - loss: 0.0902 - acc: 0.9839\n",
      "\n",
      "Epoch 90/100\n",
      "124/124 [==============================]124/124 [==============================] - 0s 161us/step - loss: 0.0885 - acc: 0.9839\n",
      "\n",
      "Epoch 91/100\n",
      "124/124 [==============================]124/124 [==============================] - 0s 169us/step - loss: 0.0868 - acc: 0.9839\n",
      "\n",
      "Epoch 92/100\n",
      "124/124 [==============================]124/124 [==============================] - 0s 137us/step - loss: 0.0857 - acc: 0.9839\n",
      "\n",
      "Epoch 93/100\n",
      "124/124 [==============================]124/124 [==============================] - 0s 137us/step - loss: 0.0842 - acc: 0.9839\n",
      "\n",
      "Epoch 94/100\n",
      "124/124 [==============================]124/124 [==============================] - 0s 153us/step - loss: 0.0827 - acc: 0.9839\n",
      "\n",
      "Epoch 95/100\n",
      "124/124 [==============================]124/124 [==============================] - 0s 137us/step - loss: 0.0812 - acc: 0.9839\n",
      "\n",
      "Epoch 96/100\n",
      "124/124 [==============================]124/124 [==============================] - 0s 137us/step - loss: 0.0797 - acc: 0.9839\n",
      "\n",
      "Epoch 97/100\n",
      "124/124 [==============================]124/124 [==============================] - 0s 145us/step - loss: 0.0796 - acc: 0.9839\n",
      "\n",
      "Epoch 98/100\n",
      "124/124 [==============================]124/124 [==============================] - 0s 177us/step - loss: 0.0770 - acc: 0.9839\n",
      "\n",
      "Epoch 99/100\n",
      "124/124 [==============================]124/124 [==============================] - 0s 161us/step - loss: 0.0758 - acc: 0.9839\n",
      "\n",
      "Epoch 100/100\n",
      "124/124 [==============================]124/124 [==============================] - 0s 137us/step - loss: 0.0747 - acc: 0.9839\n",
      "\n"
     ]
    },
    {
     "data": {
      "text/plain": [
       "<tensorflow.python.keras._impl.keras.callbacks.History at 0x1e0cd299b70>"
      ]
     },
     "execution_count": 24,
     "metadata": {},
     "output_type": "execute_result"
    }
   ],
   "source": [
    "#Train the model\n",
    "dnn_keras_model.fit(scaled_x_train, y_train, epochs=100)"
   ]
  },
  {
   "cell_type": "code",
   "execution_count": 25,
   "metadata": {
    "collapsed": false,
    "scrolled": true
   },
   "outputs": [
    {
     "data": {
      "text/plain": [
       "array([[9.10455465e-01, 8.87314603e-02, 8.13062652e-04],\n",
       "       [9.21810269e-01, 7.79261962e-02, 2.63476773e-04],\n",
       "       [3.93592811e-04, 1.84685446e-03, 9.97759581e-01],\n",
       "       [9.99775827e-01, 2.21867056e-04, 2.29738498e-06],\n",
       "       [3.36274737e-04, 7.27973413e-04, 9.98935759e-01],\n",
       "       [9.36970487e-03, 9.64403689e-01, 2.62265373e-02],\n",
       "       [1.22324424e-03, 8.71241558e-03, 9.90064323e-01],\n",
       "       [9.99176323e-01, 8.11891630e-04, 1.18144899e-05],\n",
       "       [6.25344366e-02, 9.37127650e-01, 3.37938778e-04],\n",
       "       [6.81866586e-01, 3.17505658e-01, 6.27660949e-04],\n",
       "       [9.99781072e-01, 2.12574232e-04, 6.30699151e-06],\n",
       "       [1.03302300e-01, 8.93347681e-01, 3.35001224e-03],\n",
       "       [7.50116348e-01, 2.44618952e-01, 5.26471250e-03],\n",
       "       [9.65068400e-01, 3.40753533e-02, 8.56235623e-04],\n",
       "       [9.98751760e-01, 1.23092718e-03, 1.72047148e-05],\n",
       "       [9.99354661e-01, 6.35098142e-04, 1.02019640e-05],\n",
       "       [1.86842531e-02, 9.77781475e-01, 3.53429560e-03],\n",
       "       [6.65343716e-04, 1.66294768e-01, 8.33039939e-01],\n",
       "       [9.27135348e-03, 9.88840163e-01, 1.88855943e-03],\n",
       "       [1.53118530e-02, 9.83560443e-01, 1.12773222e-03],\n",
       "       [2.41952273e-03, 9.91392851e-01, 6.18763687e-03],\n",
       "       [1.18013087e-03, 1.21967651e-01, 8.76852155e-01],\n",
       "       [1.70574093e-03, 3.72388542e-01, 6.25905633e-01],\n",
       "       [4.81299270e-04, 6.62425475e-04, 9.98856306e-01],\n",
       "       [9.99159813e-01, 8.12109327e-04, 2.81529356e-05],\n",
       "       [9.96456206e-01, 3.43665900e-03, 1.07182008e-04],\n",
       "       [2.28193924e-02, 9.76123929e-01, 1.05668278e-03],\n",
       "       [8.86178948e-03, 9.84966815e-01, 6.17135176e-03],\n",
       "       [4.93732223e-05, 2.66952021e-03, 9.97281075e-01],\n",
       "       [5.90127846e-03, 9.78479922e-01, 1.56189017e-02],\n",
       "       [5.93876059e-04, 2.29564728e-03, 9.97110486e-01],\n",
       "       [4.99952491e-03, 4.41143036e-01, 5.53857386e-01],\n",
       "       [6.16365438e-03, 4.54617292e-01, 5.39219141e-01],\n",
       "       [9.53383088e-01, 4.62855250e-02, 3.31451476e-04],\n",
       "       [3.79363149e-01, 6.18506253e-01, 2.13059690e-03],\n",
       "       [9.98862028e-01, 1.12047081e-03, 1.75436762e-05],\n",
       "       [9.95863438e-01, 4.10738261e-03, 2.92077984e-05],\n",
       "       [1.72073096e-02, 9.52547669e-01, 3.02451067e-02],\n",
       "       [7.83906877e-02, 9.19368148e-01, 2.24110088e-03],\n",
       "       [4.12396839e-05, 8.21709400e-04, 9.99137104e-01],\n",
       "       [2.33847881e-03, 9.86365318e-01, 1.12961438e-02],\n",
       "       [9.99146342e-01, 8.35167884e-04, 1.84590244e-05],\n",
       "       [9.84360516e-01, 1.55586032e-02, 8.08532131e-05],\n",
       "       [8.99443448e-01, 1.00236684e-01, 3.19799467e-04],\n",
       "       [7.04422884e-04, 1.41701788e-01, 8.57593834e-01],\n",
       "       [1.41514968e-02, 9.84638870e-01, 1.20965985e-03],\n",
       "       [1.56572964e-02, 9.83597457e-01, 7.45214464e-04],\n",
       "       [9.70133813e-04, 4.58205044e-02, 9.53209341e-01],\n",
       "       [1.84119985e-04, 1.37459708e-03, 9.98441279e-01],\n",
       "       [8.29795077e-02, 9.16908383e-01, 1.12071968e-04],\n",
       "       [9.96419191e-01, 3.50854103e-03, 7.21803226e-05],\n",
       "       [5.74726937e-03, 9.39457417e-01, 5.47952168e-02],\n",
       "       [1.33989584e-02, 9.81549859e-01, 5.05122636e-03],\n",
       "       [9.99940515e-01, 5.86486240e-05, 8.91550371e-07]], dtype=float32)"
      ]
     },
     "execution_count": 25,
     "metadata": {},
     "output_type": "execute_result"
    }
   ],
   "source": [
    "predictions0 = dnn_keras_model.predict(scaled_x_test)\n",
    "predictions0"
   ]
  },
  {
   "cell_type": "code",
   "execution_count": 26,
   "metadata": {
    "collapsed": false,
    "scrolled": true
   },
   "outputs": [
    {
     "data": {
      "text/plain": [
       "array([0, 0, 2, 0, 2, 1, 2, 0, 1, 0, 0, 1, 0, 0, 0, 0, 1, 2, 1, 1, 1, 2,\n",
       "       2, 2, 0, 0, 1, 1, 2, 1, 2, 2, 2, 0, 1, 0, 0, 1, 1, 2, 1, 0, 0, 0,\n",
       "       2, 1, 1, 2, 2, 1, 0, 1, 1, 0], dtype=int64)"
      ]
     },
     "execution_count": 26,
     "metadata": {},
     "output_type": "execute_result"
    }
   ],
   "source": [
    "predictions1 = dnn_keras_model.predict_classes(scaled_x_test)\n",
    "predictions1"
   ]
  },
  {
   "cell_type": "code",
   "execution_count": 27,
   "metadata": {
    "collapsed": false
   },
   "outputs": [
    {
     "name": "stdout",
     "output_type": "stream",
     "text": [
      "             precision    recall  f1-score   support\n",
      "\n",
      "          0       0.90      0.95      0.92        19\n",
      "          1       0.95      0.82      0.88        22\n",
      "          2       0.87      1.00      0.93        13\n",
      "\n",
      "avg / total       0.91      0.91      0.91        54\n",
      "\n",
      "[[18  1  0]\n",
      " [ 2 18  2]\n",
      " [ 0  0 13]]\n"
     ]
    }
   ],
   "source": [
    "print(classification_report(y_pred=predictions1, y_true=y_test))\n",
    "print(confusion_matrix(y_pred=predictions1, y_true=y_test))"
   ]
  },
  {
   "cell_type": "markdown",
   "metadata": {},
   "source": [
    "# Layers API"
   ]
  },
  {
   "cell_type": "code",
   "execution_count": 69,
   "metadata": {
    "collapsed": true
   },
   "outputs": [],
   "source": [
    "tf.reset_default_graph()"
   ]
  },
  {
   "cell_type": "code",
   "execution_count": 70,
   "metadata": {
    "collapsed": true
   },
   "outputs": [],
   "source": [
    "from tensorflow.contrib.layers import fully_connected"
   ]
  },
  {
   "cell_type": "code",
   "execution_count": 71,
   "metadata": {
    "collapsed": false,
    "scrolled": true
   },
   "outputs": [
    {
     "data": {
      "text/plain": [
       "array([1, 1, 1, 0, 2, 2, 0, 1, 0, 0, 2, 2, 2, 2, 1, 2, 0, 0, 1, 1, 2, 0,\n",
       "       1, 2, 0, 1, 2, 0, 0, 1, 1, 1, 0, 1, 1, 2, 0, 2, 2, 1, 2, 1, 0, 0,\n",
       "       0, 0, 0, 1, 1, 0, 0, 0, 2, 0, 1, 2, 0, 0, 2, 2, 0, 0, 0, 1, 2, 2,\n",
       "       0, 0, 1, 1, 1, 2, 2, 1, 0, 1, 1, 0, 2, 2, 1, 1, 0, 1, 2, 0, 2, 0,\n",
       "       1, 1, 0, 1, 1, 2, 1, 1, 2, 1, 0, 1, 0, 1, 2, 1, 2, 1, 1, 0, 2, 2,\n",
       "       0, 1, 1, 2, 2, 0, 2, 1, 1, 1, 1, 1, 0, 1])"
      ]
     },
     "execution_count": 71,
     "metadata": {},
     "output_type": "execute_result"
    }
   ],
   "source": [
    "y_train"
   ]
  },
  {
   "cell_type": "code",
   "execution_count": 72,
   "metadata": {
    "collapsed": false,
    "scrolled": true
   },
   "outputs": [],
   "source": [
    "# convert y_train to onehot -> as_matrix(), format that Layers API needs\n",
    "onehot_y_train = pd.get_dummies(y_train).as_matrix()\n",
    "onehot_y_test =pd.get_dummies(y_test).as_matrix()"
   ]
  },
  {
   "cell_type": "code",
   "execution_count": 73,
   "metadata": {
    "collapsed": true
   },
   "outputs": [],
   "source": [
    "#Define network Params\n",
    "num_features_inputs = 13 #13 features inputs\n",
    "num_hidden1 = 13 #13 neurons\n",
    "num_hidden2 = 13 #13 neurons\n",
    "num_outputs = 3 #3 classes\n",
    "\n",
    "learning_rate = 0.01\n",
    "epochs = 2\n",
    "\n",
    "#Placeholder\n",
    "x = tf.placeholder(dtype=tf.float32, shape=[None, num_features_inputs])\n",
    "y = tf.placeholder(dtype=tf.float32, shape=[None, num_outputs])"
   ]
  },
  {
   "cell_type": "code",
   "execution_count": 74,
   "metadata": {
    "collapsed": true
   },
   "outputs": [],
   "source": [
    "#Activation function\n",
    "activation_function = tf.nn.relu\n",
    "\n",
    "hidden1 = fully_connected(x, num_hidden1, activation_fn=activation_function)\n",
    "hidden2 = fully_connected(hidden1, num_hidden2, activation_fn=activation_function)\n",
    "\n",
    "outputs = fully_connected(hidden2, num_outputs)"
   ]
  },
  {
   "cell_type": "code",
   "execution_count": 75,
   "metadata": {
    "collapsed": false
   },
   "outputs": [],
   "source": [
    "#Loss function\n",
    "loss = tf.losses.softmax_cross_entropy(onehot_labels=y, logits=outputs)\n",
    "\n",
    "#Optimizer function\n",
    "optimizer = tf.train.AdamOptimizer(learning_rate=learning_rate).minimize(loss)"
   ]
  },
  {
   "cell_type": "code",
   "execution_count": 76,
   "metadata": {
    "collapsed": true
   },
   "outputs": [],
   "source": [
    "#Init function\n",
    "init = tf.global_variables_initializer()"
   ]
  },
  {
   "cell_type": "code",
   "execution_count": 77,
   "metadata": {
    "collapsed": false
   },
   "outputs": [],
   "source": [
    "#Training phase\n",
    "with tf.Session() as sess:\n",
    "    \n",
    "    sess.run(init)\n",
    "    \n",
    "    for epoch in range(epochs):\n",
    "        \n",
    "        sess.run(optimizer, feed_dict={x: scaled_x_train, y: onehot_y_train})\n",
    "        \n",
    "    predictions = outputs.eval(feed_dict={x: scaled_x_test})\n",
    "    \n",
    "    y_preds = tf.argmax(predictions, axis=1)\n",
    "    \n",
    "    results = y_preds.eval()"
   ]
  },
  {
   "cell_type": "code",
   "execution_count": 78,
   "metadata": {
    "collapsed": false,
    "scrolled": true
   },
   "outputs": [
    {
     "data": {
      "text/plain": [
       "array([2, 2, 2, 2, 2, 1, 2, 2, 1, 2, 2, 2, 2, 2, 2, 2, 1, 2, 2, 2, 1, 2,\n",
       "       2, 2, 2, 2, 1, 2, 2, 2, 2, 1, 2, 2, 2, 2, 2, 1, 1, 2, 2, 2, 2, 2,\n",
       "       2, 1, 1, 2, 2, 1, 2, 1, 2, 2], dtype=int64)"
      ]
     },
     "execution_count": 78,
     "metadata": {},
     "output_type": "execute_result"
    }
   ],
   "source": [
    "results"
   ]
  },
  {
   "cell_type": "code",
   "execution_count": 79,
   "metadata": {
    "collapsed": false
   },
   "outputs": [
    {
     "name": "stdout",
     "output_type": "stream",
     "text": [
      "             precision    recall  f1-score   support\n",
      "\n",
      "          0       0.00      0.00      0.00        19\n",
      "          1       1.00      0.55      0.71        22\n",
      "          2       0.31      1.00      0.47        13\n",
      "\n",
      "avg / total       0.48      0.46      0.40        54\n",
      "\n"
     ]
    },
    {
     "name": "stderr",
     "output_type": "stream",
     "text": [
      "C:\\Users\\StrikeWade\\Anaconda3\\lib\\site-packages\\sklearn\\metrics\\classification.py:1135: UndefinedMetricWarning: Precision and F-score are ill-defined and being set to 0.0 in labels with no predicted samples.\n",
      "  'precision', 'predicted', average, warn_for)\n"
     ]
    }
   ],
   "source": [
    "print(classification_report(y_pred=results, y_true=y_test))"
   ]
  },
  {
   "cell_type": "code",
   "execution_count": null,
   "metadata": {
    "collapsed": true
   },
   "outputs": [],
   "source": []
  }
 ],
 "metadata": {
  "anaconda-cloud": {},
  "kernelspec": {
   "display_name": "Python [conda root]",
   "language": "python",
   "name": "conda-root-py"
  },
  "language_info": {
   "codemirror_mode": {
    "name": "ipython",
    "version": 3
   },
   "file_extension": ".py",
   "mimetype": "text/x-python",
   "name": "python",
   "nbconvert_exporter": "python",
   "pygments_lexer": "ipython3",
   "version": "3.5.2"
  }
 },
 "nbformat": 4,
 "nbformat_minor": 1
}
