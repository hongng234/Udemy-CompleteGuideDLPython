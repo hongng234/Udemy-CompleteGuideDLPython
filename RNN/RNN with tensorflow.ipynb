{
 "cells": [
  {
   "cell_type": "code",
   "execution_count": 1,
   "metadata": {
    "collapsed": false
   },
   "outputs": [
    {
     "name": "stderr",
     "output_type": "stream",
     "text": [
      "C:\\Users\\StrikeWade\\Anaconda3\\lib\\site-packages\\h5py\\__init__.py:36: FutureWarning: Conversion of the second argument of issubdtype from `float` to `np.floating` is deprecated. In future, it will be treated as `np.float64 == np.dtype(float).type`.\n",
      "  from ._conv import register_converters as _register_converters\n",
      "Using TensorFlow backend.\n"
     ]
    }
   ],
   "source": [
    "import numpy as np\n",
    "import tensorflow as tf\n",
    "import matplotlib.pyplot as plt\n",
    "from tensorflow.examples.tutorials.mnist import input_data\n",
    "%matplotlib inline\n",
    "\n",
    "from keras import backend as K\n",
    "\n",
    "#Clear TF memory\n",
    "cfg = K.tf.ConfigProto()\n",
    "cfg.gpu_options.allow_growth = True\n",
    "K.set_session(K.tf.Session(config=cfg))"
   ]
  },
  {
   "cell_type": "code",
   "execution_count": 2,
   "metadata": {
    "collapsed": true
   },
   "outputs": [],
   "source": [
    "class TimeSeriesData():\n",
    "    \n",
    "    def __init__(self, num_points, xmin, xmax):\n",
    "        \n",
    "        self.xmin = xmin\n",
    "        self.xmax = xmax\n",
    "        self.num_points = num_points\n",
    "        \n",
    "        self.resolution = (xmax-xmin) / num_points\n",
    "        self.x_data = np.linspace(xmin, xmax, num_points)\n",
    "        self.y_true = np.sin(self.x_data)\n",
    "        \n",
    "    def ret_true(self, x_series): #return true\n",
    "        return np.sin(x_series)\n",
    "    \n",
    "    def next_batch(self, batch_size, steps, return_batch_timeseries=False):\n",
    "        #Grab a random starting point for each batch\n",
    "        rand_start = np.random.rand(batch_size, 1)\n",
    "        \n",
    "        #Convert to be on time series\n",
    "        #Give a starting point on the time series then we need to create the x axis batch\n",
    "        ts_start = rand_start * (self.xmax - self.xmin - (steps*self.resolution))\n",
    "        \n",
    "        #Create batch time series on the x axis\n",
    "        # batch time series = starting point + \n",
    "        batch_ts = ts_start + np.arange(0.0, steps+1) * self.resolution\n",
    "        \n",
    "        #Create the y data for the time series x axis from previous step\n",
    "        #sine of batch time series\n",
    "        y_batch = np.sin(batch_ts)\n",
    "        \n",
    "        #Formatting for RNN\n",
    "        if return_batch_timeseries:\n",
    "            return y_batch[:,:-1].reshape(-1, steps, 1), y_batch[:,1:].reshape(-1, steps, 1), batch_ts\n",
    "        else:\n",
    "            #return everything along the rows and along the columns - 1\n",
    "            return y_batch[:,:-1].reshape(-1, steps, 1), y_batch[:,1:].reshape(-1, steps, 1)"
   ]
  },
  {
   "cell_type": "code",
   "execution_count": 3,
   "metadata": {
    "collapsed": false
   },
   "outputs": [
    {
     "data": {
      "text/plain": [
       "<__main__.TimeSeriesData at 0x1fe3374ca20>"
      ]
     },
     "execution_count": 3,
     "metadata": {},
     "output_type": "execute_result"
    }
   ],
   "source": [
    "ts_data = TimeSeriesData(250,0,10)\n",
    "ts_data"
   ]
  },
  {
   "cell_type": "code",
   "execution_count": 4,
   "metadata": {
    "collapsed": false,
    "scrolled": true
   },
   "outputs": [
    {
     "data": {
      "text/plain": [
       "array([ 0.        ,  0.04016064,  0.08032129,  0.12048193,  0.16064257,\n",
       "        0.20080321,  0.24096386,  0.2811245 ,  0.32128514,  0.36144578,\n",
       "        0.40160643,  0.44176707,  0.48192771,  0.52208835,  0.562249  ,\n",
       "        0.60240964,  0.64257028,  0.68273092,  0.72289157,  0.76305221,\n",
       "        0.80321285,  0.84337349,  0.88353414,  0.92369478,  0.96385542,\n",
       "        1.00401606,  1.04417671,  1.08433735,  1.12449799,  1.16465863,\n",
       "        1.20481928,  1.24497992,  1.28514056,  1.3253012 ,  1.36546185,\n",
       "        1.40562249,  1.44578313,  1.48594378,  1.52610442,  1.56626506,\n",
       "        1.6064257 ,  1.64658635,  1.68674699,  1.72690763,  1.76706827,\n",
       "        1.80722892,  1.84738956,  1.8875502 ,  1.92771084,  1.96787149,\n",
       "        2.00803213,  2.04819277,  2.08835341,  2.12851406,  2.1686747 ,\n",
       "        2.20883534,  2.24899598,  2.28915663,  2.32931727,  2.36947791,\n",
       "        2.40963855,  2.4497992 ,  2.48995984,  2.53012048,  2.57028112,\n",
       "        2.61044177,  2.65060241,  2.69076305,  2.73092369,  2.77108434,\n",
       "        2.81124498,  2.85140562,  2.89156627,  2.93172691,  2.97188755,\n",
       "        3.01204819,  3.05220884,  3.09236948,  3.13253012,  3.17269076,\n",
       "        3.21285141,  3.25301205,  3.29317269,  3.33333333,  3.37349398,\n",
       "        3.41365462,  3.45381526,  3.4939759 ,  3.53413655,  3.57429719,\n",
       "        3.61445783,  3.65461847,  3.69477912,  3.73493976,  3.7751004 ,\n",
       "        3.81526104,  3.85542169,  3.89558233,  3.93574297,  3.97590361,\n",
       "        4.01606426,  4.0562249 ,  4.09638554,  4.13654618,  4.17670683,\n",
       "        4.21686747,  4.25702811,  4.29718876,  4.3373494 ,  4.37751004,\n",
       "        4.41767068,  4.45783133,  4.49799197,  4.53815261,  4.57831325,\n",
       "        4.6184739 ,  4.65863454,  4.69879518,  4.73895582,  4.77911647,\n",
       "        4.81927711,  4.85943775,  4.89959839,  4.93975904,  4.97991968,\n",
       "        5.02008032,  5.06024096,  5.10040161,  5.14056225,  5.18072289,\n",
       "        5.22088353,  5.26104418,  5.30120482,  5.34136546,  5.3815261 ,\n",
       "        5.42168675,  5.46184739,  5.50200803,  5.54216867,  5.58232932,\n",
       "        5.62248996,  5.6626506 ,  5.70281124,  5.74297189,  5.78313253,\n",
       "        5.82329317,  5.86345382,  5.90361446,  5.9437751 ,  5.98393574,\n",
       "        6.02409639,  6.06425703,  6.10441767,  6.14457831,  6.18473896,\n",
       "        6.2248996 ,  6.26506024,  6.30522088,  6.34538153,  6.38554217,\n",
       "        6.42570281,  6.46586345,  6.5060241 ,  6.54618474,  6.58634538,\n",
       "        6.62650602,  6.66666667,  6.70682731,  6.74698795,  6.78714859,\n",
       "        6.82730924,  6.86746988,  6.90763052,  6.94779116,  6.98795181,\n",
       "        7.02811245,  7.06827309,  7.10843373,  7.14859438,  7.18875502,\n",
       "        7.22891566,  7.26907631,  7.30923695,  7.34939759,  7.38955823,\n",
       "        7.42971888,  7.46987952,  7.51004016,  7.5502008 ,  7.59036145,\n",
       "        7.63052209,  7.67068273,  7.71084337,  7.75100402,  7.79116466,\n",
       "        7.8313253 ,  7.87148594,  7.91164659,  7.95180723,  7.99196787,\n",
       "        8.03212851,  8.07228916,  8.1124498 ,  8.15261044,  8.19277108,\n",
       "        8.23293173,  8.27309237,  8.31325301,  8.35341365,  8.3935743 ,\n",
       "        8.43373494,  8.47389558,  8.51405622,  8.55421687,  8.59437751,\n",
       "        8.63453815,  8.6746988 ,  8.71485944,  8.75502008,  8.79518072,\n",
       "        8.83534137,  8.87550201,  8.91566265,  8.95582329,  8.99598394,\n",
       "        9.03614458,  9.07630522,  9.11646586,  9.15662651,  9.19678715,\n",
       "        9.23694779,  9.27710843,  9.31726908,  9.35742972,  9.39759036,\n",
       "        9.437751  ,  9.47791165,  9.51807229,  9.55823293,  9.59839357,\n",
       "        9.63855422,  9.67871486,  9.7188755 ,  9.75903614,  9.79919679,\n",
       "        9.83935743,  9.87951807,  9.91967871,  9.95983936, 10.        ])"
      ]
     },
     "execution_count": 4,
     "metadata": {},
     "output_type": "execute_result"
    }
   ],
   "source": [
    "ts_data.x_data"
   ]
  },
  {
   "cell_type": "code",
   "execution_count": 5,
   "metadata": {
    "collapsed": false,
    "scrolled": true
   },
   "outputs": [
    {
     "data": {
      "text/plain": [
       "[<matplotlib.lines.Line2D at 0x1fe49059898>]"
      ]
     },
     "execution_count": 5,
     "metadata": {},
     "output_type": "execute_result"
    },
    {
     "data": {
      "image/png": "[encoded data removed]",
      "text/plain": [
       "<matplotlib.figure.Figure at 0x1fe3374c978>"
      ]
     },
     "metadata": {},
     "output_type": "display_data"
    }
   ],
   "source": [
    "plt.plot(ts_data.x_data, ts_data.y_true)"
   ]
  },
  {
   "cell_type": "code",
   "execution_count": 6,
   "metadata": {
    "collapsed": true
   },
   "outputs": [],
   "source": [
    "number_time_steps = 30"
   ]
  },
  {
   "cell_type": "code",
   "execution_count": 7,
   "metadata": {
    "collapsed": true
   },
   "outputs": [],
   "source": [
    "y1, y2, ts = ts_data.next_batch(1, number_time_steps, True)"
   ]
  },
  {
   "cell_type": "code",
   "execution_count": 8,
   "metadata": {
    "collapsed": false
   },
   "outputs": [
    {
     "data": {
      "text/plain": [
       "[<matplotlib.lines.Line2D at 0x1fe490ea7f0>]"
      ]
     },
     "execution_count": 8,
     "metadata": {},
     "output_type": "execute_result"
    },
    {
     "data": {
      "image/png": "[encoded data removed]",
      "text/plain": [
       "<matplotlib.figure.Figure at 0x1fe4902c3c8>"
      ]
     },
     "metadata": {},
     "output_type": "display_data"
    }
   ],
   "source": [
    "plt.plot(ts.flatten()[1:], y2.flatten(), '*')"
   ]
  },
  {
   "cell_type": "code",
   "execution_count": 9,
   "metadata": {
    "collapsed": false
   },
   "outputs": [
    {
     "data": {
      "image/png": "[encoded data removed]",
      "text/plain": [
       "<matplotlib.figure.Figure at 0x1fe490c3e48>"
      ]
     },
     "metadata": {},
     "output_type": "display_data"
    }
   ],
   "source": [
    "plt.plot(ts_data.x_data, ts_data.y_true, label='Sine(t)')\n",
    "plt.plot(ts.flatten()[1:], y2.flatten(), '*', label='Single Training instance')\n",
    "\n",
    "plt.legend(loc='lower left')\n",
    "plt.tight_layout()"
   ]
  },
  {
   "cell_type": "code",
   "execution_count": 10,
   "metadata": {
    "collapsed": false
   },
   "outputs": [
    {
     "data": {
      "text/plain": [
       "array([5.        , 5.04133333, 5.08266667, 5.124     , 5.16533333,\n",
       "       5.20666667, 5.248     , 5.28933333, 5.33066667, 5.372     ,\n",
       "       5.41333333, 5.45466667, 5.496     , 5.53733333, 5.57866667,\n",
       "       5.62      , 5.66133333, 5.70266667, 5.744     , 5.78533333,\n",
       "       5.82666667, 5.868     , 5.90933333, 5.95066667, 5.992     ,\n",
       "       6.03333333, 6.07466667, 6.116     , 6.15733333, 6.19866667,\n",
       "       6.24      ])"
      ]
     },
     "execution_count": 10,
     "metadata": {},
     "output_type": "execute_result"
    }
   ],
   "source": [
    "#Training data\n",
    "train_instance = np.linspace(5, 5 + ts_data.resolution*(number_time_steps+1), number_time_steps+1)\n",
    "train_instance"
   ]
  },
  {
   "cell_type": "code",
   "execution_count": 11,
   "metadata": {
    "collapsed": false
   },
   "outputs": [
    {
     "data": {
      "text/plain": [
       "array([5.        , 5.04133333, 5.08266667, 5.124     , 5.16533333,\n",
       "       5.20666667, 5.248     , 5.28933333, 5.33066667, 5.372     ,\n",
       "       5.41333333, 5.45466667, 5.496     , 5.53733333, 5.57866667,\n",
       "       5.62      , 5.66133333, 5.70266667, 5.744     , 5.78533333,\n",
       "       5.82666667, 5.868     , 5.90933333, 5.95066667, 5.992     ,\n",
       "       6.03333333, 6.07466667, 6.116     , 6.15733333, 6.19866667])"
      ]
     },
     "execution_count": 11,
     "metadata": {},
     "output_type": "execute_result"
    }
   ],
   "source": [
    "train_instance[:-1]"
   ]
  },
  {
   "cell_type": "code",
   "execution_count": 12,
   "metadata": {
    "collapsed": false
   },
   "outputs": [
    {
     "data": {
      "text/plain": [
       "array([-0.95892427, -0.94638389, -0.93222689, -0.91647747, -0.89916251,\n",
       "       -0.8803116 , -0.85995695, -0.83813331, -0.81487797, -0.79023066,\n",
       "       -0.76423348, -0.73693083, -0.70836935, -0.67859784, -0.64766715,\n",
       "       -0.61563011, -0.58254144, -0.54845769, -0.51343705, -0.47753936,\n",
       "       -0.44082594, -0.4033595 , -0.36520404, -0.32642474, -0.28708784,\n",
       "       -0.24726053, -0.20701086, -0.16640756, -0.12552001, -0.08441805])"
      ]
     },
     "execution_count": 12,
     "metadata": {},
     "output_type": "execute_result"
    }
   ],
   "source": [
    "ts_data.ret_true(train_instance[:-1])"
   ]
  },
  {
   "cell_type": "code",
   "execution_count": 13,
   "metadata": {
    "collapsed": false
   },
   "outputs": [
    {
     "data": {
      "text/plain": [
       "<matplotlib.legend.Legend at 0x1fe4b757048>"
      ]
     },
     "execution_count": 13,
     "metadata": {},
     "output_type": "execute_result"
    },
    {
     "data": {
      "image/png": "[encoded data removed]",
      "text/plain": [
       "<matplotlib.figure.Figure at 0x1fe4b6e5940>"
      ]
     },
     "metadata": {},
     "output_type": "display_data"
    }
   ],
   "source": [
    "plt.title('A Training instance')\n",
    "\n",
    "plt.plot(train_instance[:-1], ts_data.ret_true(train_instance[:-1]), 'bo', markersize=15, alpha=0.5, label='Train Instance')\n",
    "plt.plot(train_instance[1:], ts_data.ret_true(train_instance[1:]), 'ko', markersize=7, label='Target')\n",
    "\n",
    "plt.legend(loc='upper left')"
   ]
  },
  {
   "cell_type": "markdown",
   "metadata": {},
   "source": [
    "# Create the model"
   ]
  },
  {
   "cell_type": "code",
   "execution_count": 14,
   "metadata": {
    "collapsed": true
   },
   "outputs": [],
   "source": [
    "tf.reset_default_graph()"
   ]
  },
  {
   "cell_type": "code",
   "execution_count": 15,
   "metadata": {
    "collapsed": true
   },
   "outputs": [],
   "source": [
    "#Params\n",
    "num_inputs = 1 # just have 1 feature in this time series\n",
    "num_neurons = 100\n",
    "num_outputs = 1\n",
    "\n",
    "#Network Params\n",
    "learning_rate = 0.001\n",
    "epochs = 2000\n",
    "batch_size = 1\n",
    "\n",
    "#Placeholders\n",
    "x = tf.placeholder(dtype=tf.float32, shape=[None, number_time_steps, num_inputs])\n",
    "y = tf.placeholder(dtype=tf.float32, shape=[None, number_time_steps, num_outputs])"
   ]
  },
  {
   "cell_type": "code",
   "execution_count": 16,
   "metadata": {
    "collapsed": true
   },
   "outputs": [],
   "source": [
    "#RNN cell layer\n",
    "cell = tf.contrib.rnn.OutputProjectionWrapper(tf.contrib.rnn.GRUCell(num_units=num_neurons, activation=tf.nn.relu),\n",
    "                                              output_size=num_outputs)"
   ]
  },
  {
   "cell_type": "code",
   "execution_count": 17,
   "metadata": {
    "collapsed": true
   },
   "outputs": [],
   "source": [
    "outputs, states = tf.nn.dynamic_rnn(cell=cell, inputs=x, dtype=tf.float32)"
   ]
  },
  {
   "cell_type": "code",
   "execution_count": 18,
   "metadata": {
    "collapsed": true
   },
   "outputs": [],
   "source": [
    "#Loss MSE\n",
    "loss = tf.reduce_mean(tf.square(outputs-y))\n",
    "\n",
    "#Optimizer\n",
    "optimizer = tf.train.AdamOptimizer(learning_rate=learning_rate).minimize(loss)\n",
    "\n",
    "#Init\n",
    "init = tf.global_variables_initializer()"
   ]
  },
  {
   "cell_type": "code",
   "execution_count": 19,
   "metadata": {
    "collapsed": true
   },
   "outputs": [],
   "source": [
    "#Session\n",
    "gpu_options = tf.GPUOptions(per_process_gpu_memory_fraction=0.85)"
   ]
  },
  {
   "cell_type": "code",
   "execution_count": 20,
   "metadata": {
    "collapsed": false
   },
   "outputs": [
    {
     "name": "stdout",
     "output_type": "stream",
     "text": [
      "0 \tMSE 0.51363844\n",
      "100 \tMSE 0.04089744\n",
      "200 \tMSE 0.020423021\n",
      "300 \tMSE 0.01349619\n",
      "400 \tMSE 0.0032550928\n",
      "500 \tMSE 0.0043183635\n",
      "600 \tMSE 0.0012849405\n",
      "700 \tMSE 0.0016052019\n",
      "800 \tMSE 0.0028009682\n",
      "900 \tMSE 0.00057823485\n",
      "1000 \tMSE 0.00021030966\n",
      "1100 \tMSE 0.0004808792\n",
      "1200 \tMSE 8.5690495e-05\n",
      "1300 \tMSE 4.672887e-05\n",
      "1400 \tMSE 8.900922e-05\n",
      "1500 \tMSE 0.0003568457\n",
      "1600 \tMSE 0.00037511525\n",
      "1700 \tMSE 7.246911e-05\n",
      "1800 \tMSE 8.779858e-05\n",
      "1900 \tMSE 2.456377e-05\n"
     ]
    }
   ],
   "source": [
    "saver = tf.train.Saver()\n",
    "\n",
    "with tf.Session(config=tf.ConfigProto(gpu_options=gpu_options)) as sess:\n",
    "    \n",
    "    sess.run(init)\n",
    "    \n",
    "    for epoch in range(epochs):\n",
    "        batch_x, batch_y = ts_data.next_batch(batch_size, number_time_steps)\n",
    "        \n",
    "        sess.run(optimizer, feed_dict={x: batch_x, y: batch_y})\n",
    "        \n",
    "        if epoch % 100 == 0:\n",
    "            mse = loss.eval(feed_dict={x:batch_x, y: batch_y})\n",
    "            print(epoch, '\\tMSE', mse)\n",
    "            \n",
    "    saver.save(sess, 'rnn_time_series_model/')"
   ]
  },
  {
   "cell_type": "code",
   "execution_count": 21,
   "metadata": {
    "collapsed": false
   },
   "outputs": [
    {
     "name": "stdout",
     "output_type": "stream",
     "text": [
      "INFO:tensorflow:Restoring parameters from rnn_time_series_model/\n"
     ]
    }
   ],
   "source": [
    "with tf.Session() as sess:\n",
    "    \n",
    "    saver.restore(sess, 'rnn_time_series_model/')\n",
    "    \n",
    "    x_new = np.sin(np.array(train_instance[:-1].reshape(-1, number_time_steps, num_inputs)))\n",
    "    \n",
    "    y_pred = sess.run(outputs, feed_dict={x: x_new})"
   ]
  },
  {
   "cell_type": "code",
   "execution_count": 22,
   "metadata": {
    "collapsed": false,
    "scrolled": true
   },
   "outputs": [
    {
     "data": {
      "text/plain": [
       "array([[[-0.95892427],\n",
       "        [-0.94638389],\n",
       "        [-0.93222689],\n",
       "        [-0.91647747],\n",
       "        [-0.89916251],\n",
       "        [-0.8803116 ],\n",
       "        [-0.85995695],\n",
       "        [-0.83813331],\n",
       "        [-0.81487797],\n",
       "        [-0.79023066],\n",
       "        [-0.76423348],\n",
       "        [-0.73693083],\n",
       "        [-0.70836935],\n",
       "        [-0.67859784],\n",
       "        [-0.64766715],\n",
       "        [-0.61563011],\n",
       "        [-0.58254144],\n",
       "        [-0.54845769],\n",
       "        [-0.51343705],\n",
       "        [-0.47753936],\n",
       "        [-0.44082594],\n",
       "        [-0.4033595 ],\n",
       "        [-0.36520404],\n",
       "        [-0.32642474],\n",
       "        [-0.28708784],\n",
       "        [-0.24726053],\n",
       "        [-0.20701086],\n",
       "        [-0.16640756],\n",
       "        [-0.12552001],\n",
       "        [-0.08441805]]])"
      ]
     },
     "execution_count": 22,
     "metadata": {},
     "output_type": "execute_result"
    }
   ],
   "source": [
    "x_new"
   ]
  },
  {
   "cell_type": "code",
   "execution_count": 23,
   "metadata": {
    "collapsed": false
   },
   "outputs": [
    {
     "data": {
      "text/plain": [
       "array([5.04133333, 5.08266667, 5.124     , 5.16533333, 5.20666667,\n",
       "       5.248     , 5.28933333, 5.33066667, 5.372     , 5.41333333,\n",
       "       5.45466667, 5.496     , 5.53733333, 5.57866667, 5.62      ,\n",
       "       5.66133333, 5.70266667, 5.744     , 5.78533333, 5.82666667,\n",
       "       5.868     , 5.90933333, 5.95066667, 5.992     , 6.03333333,\n",
       "       6.07466667, 6.116     , 6.15733333, 6.19866667, 6.24      ])"
      ]
     },
     "execution_count": 23,
     "metadata": {},
     "output_type": "execute_result"
    }
   ],
   "source": [
    "train_instance[1:]"
   ]
  },
  {
   "cell_type": "code",
   "execution_count": 24,
   "metadata": {
    "collapsed": false,
    "scrolled": true
   },
   "outputs": [
    {
     "data": {
      "text/plain": [
       "array([-0.92155004, -0.9344956 , -0.91503495, -0.8660325 , -0.8368161 ,\n",
       "       -0.8201099 , -0.8051477 , -0.78345585, -0.75657964, -0.7287559 ,\n",
       "       -0.701849  , -0.6752137 , -0.64766085, -0.6186011 , -0.5877207 ,\n",
       "       -0.55516964, -0.521823  , -0.48785707, -0.4531905 , -0.41790187,\n",
       "       -0.38202813, -0.34482574, -0.3063178 , -0.26801658, -0.22983235,\n",
       "       -0.19094783, -0.15159723, -0.11202786, -0.07174867, -0.03118856],\n",
       "      dtype=float32)"
      ]
     },
     "execution_count": 24,
     "metadata": {},
     "output_type": "execute_result"
    }
   ],
   "source": [
    "y_pred[0,:,0]"
   ]
  },
  {
   "cell_type": "code",
   "execution_count": 25,
   "metadata": {
    "collapsed": false
   },
   "outputs": [
    {
     "data": {
      "image/png": "[encoded data removed]",
      "text/plain": [
       "<matplotlib.figure.Figure at 0x1fe5a193550>"
      ]
     },
     "metadata": {},
     "output_type": "display_data"
    }
   ],
   "source": [
    "plt.title('Testing the model')\n",
    "\n",
    "#Training instanse\n",
    "plt.plot(train_instance[:-1], ts_data.ret_true(train_instance[:-1]), 'bo', markersize=15, alpha=0.5, label='Train Instance')\n",
    "\n",
    "#Target to predict(correct test values np.sin(train))\n",
    "plt.plot(train_instance[1:], ts_data.ret_true(train_instance[1:]), 'ko', markersize=7, label='Target')\n",
    "\n",
    "#Models prediction\n",
    "plt.plot(train_instance[1:], y_pred[0,:,0], 'r.', markersize=10, label='Predictions')\n",
    "\n",
    "plt.xlabel('Time')\n",
    "plt.legend(loc='upper left')\n",
    "plt.tight_layout()"
   ]
  },
  {
   "cell_type": "markdown",
   "metadata": {},
   "source": [
    "# Generating new Sequence"
   ]
  },
  {
   "cell_type": "code",
   "execution_count": 31,
   "metadata": {
    "collapsed": false
   },
   "outputs": [
    {
     "name": "stdout",
     "output_type": "stream",
     "text": [
      "INFO:tensorflow:Restoring parameters from rnn_time_series_model/\n"
     ]
    }
   ],
   "source": [
    "with tf.Session() as sess:\n",
    "    \n",
    "    saver.restore(sess, 'rnn_time_series_model/')\n",
    "    \n",
    "    #Seed zeros\n",
    "    \n",
    "    zero_seq_seed = [0.0 for i in range(number_time_steps)]\n",
    "    \n",
    "    for epoch in range(len(ts_data.x_data)-number_time_steps):\n",
    "        \n",
    "        batch_x = np.array(zero_seq_seed[-number_time_steps:]).reshape(1,number_time_steps,1)\n",
    "        \n",
    "        y_pred = sess.run(outputs, feed_dict={x: batch_x})\n",
    "        \n",
    "        zero_seq_seed.append(y_pred[0,-1,0])"
   ]
  },
  {
   "cell_type": "code",
   "execution_count": 32,
   "metadata": {
    "collapsed": false,
    "scrolled": true
   },
   "outputs": [
    {
     "data": {
      "text/plain": [
       "[0.0,\n",
       " 0.0,\n",
       " 0.0,\n",
       " 0.0,\n",
       " 0.0,\n",
       " 0.0,\n",
       " 0.0,\n",
       " 0.0,\n",
       " 0.0,\n",
       " 0.0,\n",
       " 0.0,\n",
       " 0.0,\n",
       " 0.0,\n",
       " 0.0,\n",
       " 0.0,\n",
       " 0.0,\n",
       " 0.0,\n",
       " 0.0,\n",
       " 0.0,\n",
       " 0.0,\n",
       " 0.0,\n",
       " 0.0,\n",
       " 0.0,\n",
       " 0.0,\n",
       " 0.0,\n",
       " 0.0,\n",
       " 0.0,\n",
       " 0.0,\n",
       " 0.0,\n",
       " 0.0,\n",
       " 0.008294504,\n",
       " 0.017350413,\n",
       " 0.03008493,\n",
       " 0.046501204,\n",
       " 0.06649905,\n",
       " 0.0899391,\n",
       " 0.11630278,\n",
       " 0.14507845,\n",
       " 0.17624974,\n",
       " 0.20903033,\n",
       " 0.24318394,\n",
       " 0.27818733,\n",
       " 0.31475097,\n",
       " 0.35277396,\n",
       " 0.3918916,\n",
       " 0.43171576,\n",
       " 0.47210273,\n",
       " 0.5128598,\n",
       " 0.5537327,\n",
       " 0.59442466,\n",
       " 0.6340165,\n",
       " 0.6717289,\n",
       " 0.7074006,\n",
       " 0.7410961,\n",
       " 0.7729135,\n",
       " 0.80291754,\n",
       " 0.83113825,\n",
       " 0.8575498,\n",
       " 0.88215655,\n",
       " 0.90496117,\n",
       " 0.92577535,\n",
       " 0.944754,\n",
       " 0.9620997,\n",
       " 0.9780206,\n",
       " 0.9926428,\n",
       " 1.0061992,\n",
       " 1.0189282,\n",
       " 1.0310466,\n",
       " 1.0427525,\n",
       " 1.0542277,\n",
       " 1.0656397,\n",
       " 1.0771444,\n",
       " 1.0888857,\n",
       " 1.1010007,\n",
       " 1.1136206,\n",
       " 1.1268742,\n",
       " 1.1408883,\n",
       " 1.1557888,\n",
       " 1.1717046,\n",
       " 1.1887703,\n",
       " 1.2071234,\n",
       " 1.2269123,\n",
       " 1.2482952,\n",
       " 1.2714423,\n",
       " 1.2965364,\n",
       " 1.323778,\n",
       " 1.3533856,\n",
       " 1.3855989,\n",
       " 1.4204422,\n",
       " 1.4578182,\n",
       " 1.4978875,\n",
       " 1.5407915,\n",
       " 1.5866618,\n",
       " 1.6356385,\n",
       " 1.6878599,\n",
       " 1.742929,\n",
       " 1.8007597,\n",
       " 1.861405,\n",
       " 1.9248438,\n",
       " 1.9900676,\n",
       " 2.056678,\n",
       " 2.124431,\n",
       " 2.1930096,\n",
       " 2.2620919,\n",
       " 2.331346,\n",
       " 2.4004483,\n",
       " 2.4690824,\n",
       " 2.536936,\n",
       " 2.603702,\n",
       " 2.6690807,\n",
       " 2.7327642,\n",
       " 2.7938364,\n",
       " 2.8519604,\n",
       " 2.9066458,\n",
       " 2.9575772,\n",
       " 3.0044777,\n",
       " 3.0472112,\n",
       " 3.0857525,\n",
       " 3.1200778,\n",
       " 3.1502786,\n",
       " 3.1764817,\n",
       " 3.1988654,\n",
       " 3.2176433,\n",
       " 3.2330563,\n",
       " 3.245363,\n",
       " 3.2548318,\n",
       " 3.2617292,\n",
       " 3.2663171,\n",
       " 3.2688494,\n",
       " 3.2695696,\n",
       " 3.2687144,\n",
       " 3.2664995,\n",
       " 3.2631266,\n",
       " 3.2587783,\n",
       " 3.2536197,\n",
       " 3.2478006,\n",
       " 3.241453,\n",
       " 3.2346964,\n",
       " 3.2276368,\n",
       " 3.2203686,\n",
       " 3.2129757,\n",
       " 3.2055342,\n",
       " 3.198113,\n",
       " 3.1907742,\n",
       " 3.1835754,\n",
       " 3.1765678,\n",
       " 3.169798,\n",
       " 3.163306,\n",
       " 3.1571279,\n",
       " 3.151294,\n",
       " 3.145829,\n",
       " 3.1407518,\n",
       " 3.136077,\n",
       " 3.1318119,\n",
       " 3.1279604,\n",
       " 3.1245213,\n",
       " 3.1214883,\n",
       " 3.1188521,\n",
       " 3.116599,\n",
       " 3.1147134,\n",
       " 3.1131763,\n",
       " 3.111967,\n",
       " 3.111063,\n",
       " 3.1104407,\n",
       " 3.1100762,\n",
       " 3.1099446,\n",
       " 3.1100216,\n",
       " 3.1102839,\n",
       " 3.1107073,\n",
       " 3.1112695,\n",
       " 3.1119487,\n",
       " 3.1127243,\n",
       " 3.113578,\n",
       " 3.1144915,\n",
       " 3.1154485,\n",
       " 3.1164346,\n",
       " 3.1174352,\n",
       " 3.118439,\n",
       " 3.1194348,\n",
       " 3.1204133,\n",
       " 3.1213663,\n",
       " 3.1222875,\n",
       " 3.1231697,\n",
       " 3.1240091,\n",
       " 3.124801,\n",
       " 3.1255426,\n",
       " 3.1262317,\n",
       " 3.1268668,\n",
       " 3.1274476,\n",
       " 3.127973,\n",
       " 3.128445,\n",
       " 3.1288633,\n",
       " 3.1292295,\n",
       " 3.129546,\n",
       " 3.129814,\n",
       " 3.130037,\n",
       " 3.130217,\n",
       " 3.1303573,\n",
       " 3.1304598,\n",
       " 3.1305285,\n",
       " 3.1305656,\n",
       " 3.1305747,\n",
       " 3.1305583,\n",
       " 3.1305196,\n",
       " 3.130462,\n",
       " 3.130387,\n",
       " 3.1302984,\n",
       " 3.1301978,\n",
       " 3.130088,\n",
       " 3.129971,\n",
       " 3.129849,\n",
       " 3.129723,\n",
       " 3.1295962,\n",
       " 3.1294684,\n",
       " 3.1293426,\n",
       " 3.1292186,\n",
       " 3.1290984,\n",
       " 3.1289825,\n",
       " 3.128871,\n",
       " 3.1287653,\n",
       " 3.1286662,\n",
       " 3.1285734,\n",
       " 3.1284876,\n",
       " 3.128409,\n",
       " 3.1283367,\n",
       " 3.1282716,\n",
       " 3.1282134,\n",
       " 3.1281621,\n",
       " 3.1281176,\n",
       " 3.128079,\n",
       " 3.1280468,\n",
       " 3.12802,\n",
       " 3.1279988,\n",
       " 3.1279829,\n",
       " 3.1279712,\n",
       " 3.127964,\n",
       " 3.1279602,\n",
       " 3.12796,\n",
       " 3.1279626,\n",
       " 3.127968,\n",
       " 3.1279762,\n",
       " 3.1279867,\n",
       " 3.1279993,\n",
       " 3.1280134,\n",
       " 3.128028,\n",
       " 3.1280434,\n",
       " 3.1280594,\n",
       " 3.1280754,\n",
       " 3.1280918,\n",
       " 3.1281078]"
      ]
     },
     "execution_count": 32,
     "metadata": {},
     "output_type": "execute_result"
    }
   ],
   "source": [
    "zero_seq_seed"
   ]
  },
  {
   "cell_type": "code",
   "execution_count": 33,
   "metadata": {
    "collapsed": false
   },
   "outputs": [
    {
     "data": {
      "text/plain": [
       "<matplotlib.text.Text at 0x1fe627fac18>"
      ]
     },
     "execution_count": 33,
     "metadata": {},
     "output_type": "execute_result"
    },
    {
     "data": {
      "image/png": "[encoded data removed]",
      "text/plain": [
       "<matplotlib.figure.Figure at 0x1fe5a46c320>"
      ]
     },
     "metadata": {},
     "output_type": "display_data"
    }
   ],
   "source": [
    "plt.plot(ts_data.x_data, zero_seq_seed, 'b-')\n",
    "plt.plot(ts_data.x_data[:number_time_steps], zero_seq_seed[:number_time_steps], 'r', linewidth=3)\n",
    "plt.xlabel('Time')\n",
    "plt.ylabel('Y')"
   ]
  },
  {
   "cell_type": "code",
   "execution_count": 34,
   "metadata": {
    "collapsed": false
   },
   "outputs": [
    {
     "name": "stdout",
     "output_type": "stream",
     "text": [
      "INFO:tensorflow:Restoring parameters from rnn_time_series_model/\n"
     ]
    }
   ],
   "source": [
    "with tf.Session() as sess:\n",
    "    \n",
    "    saver.restore(sess, 'rnn_time_series_model/')\n",
    "    \n",
    "    #Seed zeros\n",
    "    \n",
    "    train_instance = list(ts_data.y_true[:30])\n",
    "    \n",
    "    for epoch in range(len(ts_data.x_data)-number_time_steps):\n",
    "        \n",
    "        batch_x = np.array(train_instance[-number_time_steps:]).reshape(1,number_time_steps,1)\n",
    "        \n",
    "        y_pred = sess.run(outputs, feed_dict={x: batch_x})\n",
    "        \n",
    "        train_instance.append(y_pred[0,-1,0])"
   ]
  },
  {
   "cell_type": "code",
   "execution_count": 35,
   "metadata": {
    "collapsed": false
   },
   "outputs": [
    {
     "data": {
      "text/plain": [
       "<matplotlib.text.Text at 0x1fe5a2da550>"
      ]
     },
     "execution_count": 35,
     "metadata": {},
     "output_type": "execute_result"
    },
    {
     "data": {
      "image/png": "[encoded data removed]",
      "text/plain": [
       "<matplotlib.figure.Figure at 0x1fe5a34a668>"
      ]
     },
     "metadata": {},
     "output_type": "display_data"
    }
   ],
   "source": [
    "plt.plot(ts_data.x_data, train_instance, 'b-')\n",
    "plt.plot(ts_data.x_data[:number_time_steps], train_instance[:number_time_steps], 'r', linewidth=3)\n",
    "plt.xlabel('Time')\n",
    "plt.ylabel('Y')"
   ]
  },
  {
   "cell_type": "code",
   "execution_count": null,
   "metadata": {
    "collapsed": true
   },
   "outputs": [],
   "source": []
  },
  {
   "cell_type": "code",
   "execution_count": null,
   "metadata": {
    "collapsed": true
   },
   "outputs": [],
   "source": []
  },
  {
   "cell_type": "code",
   "execution_count": null,
   "metadata": {
    "collapsed": true
   },
   "outputs": [],
   "source": []
  }
 ],
 "metadata": {
  "anaconda-cloud": {},
  "kernelspec": {
   "display_name": "Python [conda root]",
   "language": "python",
   "name": "conda-root-py"
  },
  "language_info": {
   "codemirror_mode": {
    "name": "ipython",
    "version": 3
   },
   "file_extension": ".py",
   "mimetype": "text/x-python",
   "name": "python",
   "nbconvert_exporter": "python",
   "pygments_lexer": "ipython3",
   "version": "3.5.2"
  }
 },
 "nbformat": 4,
 "nbformat_minor": 1
}
