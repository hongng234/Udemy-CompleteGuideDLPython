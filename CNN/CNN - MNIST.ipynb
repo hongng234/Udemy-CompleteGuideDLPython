{
 "cells": [
  {
   "cell_type": "code",
   "execution_count": 2,
   "metadata": {
    "collapsed": false
   },
   "outputs": [
    {
     "name": "stdout",
     "output_type": "stream",
     "text": [
      "Extracting ../mnist/train-images-idx3-ubyte.gz\n",
      "Extracting ../mnist/train-labels-idx1-ubyte.gz\n",
      "Extracting ../mnist/t10k-images-idx3-ubyte.gz\n",
      "Extracting ../mnist/t10k-labels-idx1-ubyte.gz\n"
     ]
    }
   ],
   "source": [
    "import  numpy  as  np\n",
    "import  tensorflow as tf\n",
    "import matplotlib.pyplot as plt\n",
    "from tensorflow.examples.tutorials.mnist import input_data\n",
    "%matplotlib inline\n",
    "\n",
    "from keras import backend as K\n",
    "\n",
    "#Clear TF memory\n",
    "cfg = K.tf.ConfigProto()\n",
    "cfg.gpu_options.allow_growth = True\n",
    "K.set_session(K.tf.Session(config=cfg))\n",
    "\n",
    "mnist = input_data.read_data_sets('../mnist/', one_hot=True)"
   ]
  },
  {
   "cell_type": "code",
   "execution_count": 7,
   "metadata": {
    "collapsed": true
   },
   "outputs": [],
   "source": [
    "#Init weights\n",
    "def init_weights(shape):\n",
    "    return tf.Variable(tf.truncated_normal(shape, stddev=0.1))"
   ]
  },
  {
   "cell_type": "code",
   "execution_count": 8,
   "metadata": {
    "collapsed": true
   },
   "outputs": [],
   "source": [
    "#Init biases\n",
    "def init_biases(shape):\n",
    "    return tf.Variable(tf.constant(0.1, shape=shape))"
   ]
  },
  {
   "cell_type": "code",
   "execution_count": 9,
   "metadata": {
    "collapsed": true
   },
   "outputs": [],
   "source": [
    "#Conv2D\n",
    "def conv2d(x, weights):\n",
    "    # x --> [batch_size, height, width, channels]\n",
    "    # weights -> [filter_height, filter_width, channels_in, channels_out]\n",
    "    \n",
    "    return tf.nn.conv2d(x, weights, strides=[1,1,1,1], padding='SAME') #'SAME' - 0 padding"
   ]
  },
  {
   "cell_type": "code",
   "execution_count": 11,
   "metadata": {
    "collapsed": true
   },
   "outputs": [],
   "source": [
    "#MaxPooling\n",
    "def max_pooling(x, k):\n",
    "    # x --> [batch_size, height, width, channels]\n",
    "    # k --> height(width) size\n",
    "    return tf.nn.max_pool(x, ksize=[1,k,k,1], strides=[1,k,k,1], padding='SAME')"
   ]
  },
  {
   "cell_type": "code",
   "execution_count": 12,
   "metadata": {
    "collapsed": true
   },
   "outputs": [],
   "source": [
    "#Convolutional layer\n",
    "def conv_layer(input_x, shape):\n",
    "    W = init_weights(shape)\n",
    "    b = init_biases([shape[3]])\n",
    "    \n",
    "    return tf.nn.relu(conv2d(input_x, W)+b)"
   ]
  },
  {
   "cell_type": "code",
   "execution_count": 13,
   "metadata": {
    "collapsed": true
   },
   "outputs": [],
   "source": [
    "#Fully Connected\n",
    "def normal_full_layer(input_layer, size):\n",
    "    input_size = int(input_layer.get_shape()[1])\n",
    "    W = init_weights([input_size, size])\n",
    "    b = init_weights([size])\n",
    "    \n",
    "    return tf.matmul(input_layer, W) + b"
   ]
  },
  {
   "cell_type": "code",
   "execution_count": 14,
   "metadata": {
    "collapsed": true
   },
   "outputs": [],
   "source": [
    "#Placeholder\n",
    "x = tf.placeholder(dtype=tf.float32, shape=[None, 784])\n",
    "y = tf.placeholder(dtype=tf.float32, shape=[None, 10])"
   ]
  },
  {
   "cell_type": "code",
   "execution_count": 15,
   "metadata": {
    "collapsed": true
   },
   "outputs": [],
   "source": [
    "#Layers\n",
    "x_image = tf.reshape(x, shape=[-1,28,28,1])\n",
    "\n",
    "conv1 = conv_layer(x_image, shape=[5,5,1,32]) #5x5 - patch size, 1 - input channel(grayscale), 32 - output channels\n",
    "pool1 = max_pooling(conv1, 2)\n",
    "\n",
    "conv2 = conv_layer(pool1, shape=[5,5,32,64])\n",
    "pool2 = max_pooling(conv2, 2)\n",
    "\n",
    "conv_to_flat = tf.reshape(pool2, shape=[-1, 7*7*64])\n",
    "fc1 = tf.nn.relu(normal_full_layer(conv_to_flat, 1024))"
   ]
  },
  {
   "cell_type": "code",
   "execution_count": 16,
   "metadata": {
    "collapsed": true
   },
   "outputs": [],
   "source": [
    "#Dropout\n",
    "keep_prob = tf.placeholder(dtype=tf.float32)\n",
    "dropout = tf.nn.dropout(fc1, keep_prob=keep_prob)"
   ]
  },
  {
   "cell_type": "code",
   "execution_count": 18,
   "metadata": {
    "collapsed": true
   },
   "outputs": [],
   "source": [
    "y_pred = normal_full_layer(dropout, 10)"
   ]
  },
  {
   "cell_type": "code",
   "execution_count": 19,
   "metadata": {
    "collapsed": false
   },
   "outputs": [
    {
     "name": "stdout",
     "output_type": "stream",
     "text": [
      "WARNING:tensorflow:From <ipython-input-19-726a1d07c748>:2: softmax_cross_entropy_with_logits (from tensorflow.python.ops.nn_ops) is deprecated and will be removed in a future version.\n",
      "Instructions for updating:\n",
      "\n",
      "Future major versions of TensorFlow will allow gradients to flow\n",
      "into the labels input on backprop by default.\n",
      "\n",
      "See tf.nn.softmax_cross_entropy_with_logits_v2.\n",
      "\n"
     ]
    }
   ],
   "source": [
    "#Loss function\n",
    "loss = tf.reduce_mean(tf.nn.softmax_cross_entropy_with_logits(logits=y_pred, labels=y))\n",
    "\n",
    "#Optimizer\n",
    "optimizer = tf.train.AdamOptimizer(learning_rate=0.001).minimize(loss)\n",
    "\n",
    "#Init\n",
    "init = tf.global_variables_initializer()"
   ]
  },
  {
   "cell_type": "code",
   "execution_count": null,
   "metadata": {
    "collapsed": false,
    "scrolled": true
   },
   "outputs": [
    {
     "name": "stdout",
     "output_type": "stream",
     "text": [
      "[1/5000]\n",
      "Accuracy on test set:  0.1388\n",
      "[101/5000]\n",
      "Accuracy on test set:  0.9516\n",
      "[201/5000]\n",
      "Accuracy on test set:  0.967\n",
      "[301/5000]\n",
      "Accuracy on test set:  0.9678\n",
      "[401/5000]\n",
      "Accuracy on test set:  0.9804\n",
      "[501/5000]\n",
      "Accuracy on test set:  0.9787\n",
      "[601/5000]\n",
      "Accuracy on test set:  0.9821\n",
      "[701/5000]\n",
      "Accuracy on test set:  0.9839\n",
      "[801/5000]\n",
      "Accuracy on test set:  0.9833\n",
      "[901/5000]\n",
      "Accuracy on test set:  0.9836\n",
      "[1001/5000]\n",
      "Accuracy on test set:  0.9875\n",
      "[1101/5000]\n",
      "Accuracy on test set:  0.9859\n",
      "[1201/5000]\n",
      "Accuracy on test set:  0.9863\n",
      "[1301/5000]\n",
      "Accuracy on test set:  0.9864\n",
      "[1401/5000]\n",
      "Accuracy on test set:  0.9901\n",
      "[1501/5000]\n",
      "Accuracy on test set:  0.9895\n",
      "[1601/5000]\n",
      "Accuracy on test set:  0.9893\n",
      "[1701/5000]\n",
      "Accuracy on test set:  0.9892\n",
      "[1801/5000]\n",
      "Accuracy on test set:  0.99\n",
      "[1901/5000]\n",
      "Accuracy on test set:  0.9891\n",
      "[2001/5000]\n",
      "Accuracy on test set:  0.9884\n",
      "[2101/5000]\n",
      "Accuracy on test set:  0.9896\n",
      "[2201/5000]\n",
      "Accuracy on test set:  0.9858\n",
      "[2301/5000]\n",
      "Accuracy on test set:  0.9901\n",
      "[2401/5000]\n",
      "Accuracy on test set:  0.9912\n",
      "[2501/5000]\n",
      "Accuracy on test set:  0.9892\n",
      "[2601/5000]\n",
      "Accuracy on test set:  0.9909\n",
      "[2701/5000]\n",
      "Accuracy on test set:  0.9904\n",
      "[2801/5000]\n",
      "Accuracy on test set:  0.9916\n",
      "[2901/5000]\n",
      "Accuracy on test set:  0.9907\n",
      "[3001/5000]\n",
      "Accuracy on test set:  0.9904\n",
      "[3101/5000]\n",
      "Accuracy on test set:  0.9903\n",
      "[3201/5000]\n",
      "Accuracy on test set:  0.9884\n",
      "[3301/5000]\n",
      "Accuracy on test set:  0.992\n",
      "[3401/5000]\n",
      "Accuracy on test set:  0.9911\n",
      "[3501/5000]\n",
      "Accuracy on test set:  0.9915\n",
      "[3601/5000]\n",
      "Accuracy on test set:  0.9916\n",
      "[3701/5000]\n",
      "Accuracy on test set:  0.9902\n",
      "[3801/5000]\n",
      "Accuracy on test set:  0.991\n",
      "[3901/5000]\n",
      "Accuracy on test set:  0.9924\n",
      "[4001/5000]\n",
      "Accuracy on test set:  0.9919\n",
      "[4101/5000]\n",
      "Accuracy on test set:  0.992\n",
      "[4201/5000]\n",
      "Accuracy on test set:  0.9916\n",
      "[4301/5000]\n",
      "Accuracy on test set:  0.9915\n",
      "[4401/5000]\n",
      "Accuracy on test set:  0.9903\n",
      "[4501/5000]\n",
      "Accuracy on test set:  0.9903\n",
      "[4601/5000]\n",
      "Accuracy on test set:  0.9927\n",
      "[4701/5000]\n",
      "Accuracy on test set:  0.9931\n",
      "[4801/5000]\n",
      "Accuracy on test set:  0.9921\n"
     ]
    }
   ],
   "source": [
    "with tf.Session() as sess:\n",
    "    sess.run(init)\n",
    "    \n",
    "    for epoch in range(5000):\n",
    "        batch_x, batch_y = mnist.train.next_batch(100)\n",
    "        \n",
    "        sess.run(optimizer, feed_dict={x: batch_x, y: batch_y, keep_prob:0.5})\n",
    "        \n",
    "        if epoch % 100 == 0:\n",
    "            print('[%d/%d]' % (epoch+1, 5000))\n",
    "            correct_pred = tf.equal(tf.argmax(y_pred,1), tf.argmax(y,1))\n",
    "            accuracy = tf.reduce_mean(tf.cast(correct_pred, dtype=tf.float32))\n",
    "            print('Accuracy on test set: ', sess.run(accuracy, feed_dict={x: mnist.test.images, y: mnist.test.labels, keep_prob:1.0}))"
   ]
  },
  {
   "cell_type": "code",
   "execution_count": null,
   "metadata": {
    "collapsed": true
   },
   "outputs": [],
   "source": []
  }
 ],
 "metadata": {
  "kernelspec": {
   "display_name": "Python [conda root]",
   "language": "python",
   "name": "conda-root-py"
  },
  "language_info": {
   "codemirror_mode": {
    "name": "ipython",
    "version": 3
   },
   "file_extension": ".py",
   "mimetype": "text/x-python",
   "name": "python",
   "nbconvert_exporter": "python",
   "pygments_lexer": "ipython3",
   "version": "3.5.2"
  }
 },
 "nbformat": 4,
 "nbformat_minor": 1
}
